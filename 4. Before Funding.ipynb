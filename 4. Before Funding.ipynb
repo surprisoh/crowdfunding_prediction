{
 "cells": [
  {
   "cell_type": "markdown",
   "metadata": {},
   "source": [
    "# Before Funding\n",
    "\n",
    "- Funding이 시작되기전 주어지는 정보를 이용하여 성공/실패 예측\n",
    "- 최종 펀딩금액(result)을 예측할 수 있을까? (***OLS***)\n",
    "- 성공/실패 여부 예측 (***RandomForest, KNN, GaussianNB***)"
   ]
  },
  {
   "cell_type": "code",
   "execution_count": 1,
   "metadata": {
    "collapsed": false
   },
   "outputs": [],
   "source": [
    "from sklearn.neighbors import KNeighborsClassifier\n",
    "from sklearn.naive_bayes import GaussianNB\n",
    "from sklearn.ensemble import RandomForestClassifier\n",
    "from sklearn.cross_validation import cross_val_score\n",
    "from sklearn.cross_validation import KFold\n",
    "from sklearn.cross_validation import StratifiedKFold\n",
    "from sklearn.neighbors import KNeighborsClassifier\n",
    "from sklearn.naive_bayes import GaussianNB\n",
    "from sklearn.naive_bayes import MultinomialNB\n",
    "import statsmodels.api as sm\n",
    "import patsy"
   ]
  },
  {
   "cell_type": "code",
   "execution_count": 2,
   "metadata": {
    "collapsed": false
   },
   "outputs": [],
   "source": [
    "# Data Load\n",
    "wadiz_df_original = pd.read_csv('wadiz_df_0329_1.csv', index_col=0)\n",
    "user_comment = pd.read_csv('user_data_all_0329.csv', index_col=0)\n",
    "provider_comment = pd.read_csv('provider_data_all_0329.csv', index_col=0)\n",
    "wadiz_df = pd.read_csv('wadiz_provider_analysis_0329.csv', index_col=0)\n",
    "provider_comment_grammar = pd.read_csv('comment_analysis.csv', index_col=0)"
   ]
  },
  {
   "cell_type": "code",
   "execution_count": 3,
   "metadata": {
    "collapsed": false
   },
   "outputs": [],
   "source": [
    "# grammar null값 제거\n",
    "wadiz_df = wadiz_df[wadiz_df['provider_grammar_level'].notnull()]\n",
    "# duration 처리\n",
    "wadiz_df['date_duration'] = wadiz_df['date_duration'].apply(lambda x: int(x[:-24]))"
   ]
  },
  {
   "cell_type": "markdown",
   "metadata": {},
   "source": [
    "## 1. Regression\n",
    "### A. OLS\n",
    "* Attributes : Duration, Category, Area, Grammar_level, Target(목표펀딩금액)\n",
    "* 5가지의 변수를 이용하여 최종펀딩금액 예측\n",
    "* Model : OLS"
   ]
  },
  {
   "cell_type": "markdown",
   "metadata": {},
   "source": [
    "Category, Area -> OneHotEncoding"
   ]
  },
  {
   "cell_type": "code",
   "execution_count": 4,
   "metadata": {
    "collapsed": false
   },
   "outputs": [],
   "source": [
    "x_static = pd.DataFrame([wadiz_df[u'target'],\n",
    "       wadiz_df['date_duration'],wadiz_df [u'category_label_art/photo/exhibit'],\n",
    "       wadiz_df['category_label_book/movie'], wadiz_df['category_label_education'],\n",
    "       wadiz_df['category_label_environment'], wadiz_df['category_label_figure/webtoon'],\n",
    "       wadiz_df['category_label_game/comics'], wadiz_df['category_label_life/fashion'],\n",
    "       wadiz_df['category_label_music/concert'], wadiz_df['category_label_share/public'],\n",
    "       wadiz_df['category_label_sports'], wadiz_df['category_label_tech/design'],\n",
    "       wadiz_df['category_label_travel'], wadiz_df['category_label_busan'],\n",
    "       wadiz_df['category_label_chungbuk'], wadiz_df[u'category_label_chungnam'],\n",
    "       wadiz_df['category_label_deagu'], wadiz_df['category_label_deajeon'],\n",
    "       wadiz_df['category_label_gwangju'], wadiz_df['category_label_incheon'],\n",
    "       wadiz_df['category_label_jeju'], wadiz_df['category_label_jeonbuk'],\n",
    "       wadiz_df['category_label_jeonnam'], wadiz_df['category_label_kangwon'],\n",
    "       wadiz_df['category_label_kyungbuk'], wadiz_df['category_label_kyungki'],\n",
    "       wadiz_df['category_label_kyungnam'], wadiz_df['category_label_sejong'],\n",
    "       wadiz_df['category_label_seoul'], wadiz_df['category_label_ulsan'], wadiz_df['provider_grammar_level']]).T\n",
    "y = wadiz_df['result']"
   ]
  },
  {
   "cell_type": "code",
   "execution_count": 5,
   "metadata": {
    "collapsed": false,
    "scrolled": true
   },
   "outputs": [],
   "source": [
    "static_reg_model = sm.OLS(y, x_static).fit()"
   ]
  },
  {
   "cell_type": "code",
   "execution_count": 6,
   "metadata": {
    "collapsed": false,
    "scrolled": false
   },
   "outputs": [
    {
     "data": {
      "text/html": [
       "<table class=\"simpletable\">\n",
       "<caption>OLS Regression Results</caption>\n",
       "<tr>\n",
       "  <th>Dep. Variable:</th>         <td>result</td>      <th>  R-squared:         </th> <td>   0.094</td> \n",
       "</tr>\n",
       "<tr>\n",
       "  <th>Model:</th>                   <td>OLS</td>       <th>  Adj. R-squared:    </th> <td>   0.045</td> \n",
       "</tr>\n",
       "<tr>\n",
       "  <th>Method:</th>             <td>Least Squares</td>  <th>  F-statistic:       </th> <td>   1.943</td> \n",
       "</tr>\n",
       "<tr>\n",
       "  <th>Date:</th>             <td>Fri, 08 Apr 2016</td> <th>  Prob (F-statistic):</th>  <td>0.00219</td> \n",
       "</tr>\n",
       "<tr>\n",
       "  <th>Time:</th>                 <td>02:38:47</td>     <th>  Log-Likelihood:    </th> <td> -10526.</td> \n",
       "</tr>\n",
       "<tr>\n",
       "  <th>No. Observations:</th>      <td>   596</td>      <th>  AIC:               </th> <td>2.111e+04</td>\n",
       "</tr>\n",
       "<tr>\n",
       "  <th>Df Residuals:</th>          <td>   565</td>      <th>  BIC:               </th> <td>2.125e+04</td>\n",
       "</tr>\n",
       "<tr>\n",
       "  <th>Df Model:</th>              <td>    30</td>      <th>                     </th>     <td> </td>    \n",
       "</tr>\n",
       "<tr>\n",
       "  <th>Covariance Type:</th>      <td>nonrobust</td>    <th>                     </th>     <td> </td>    \n",
       "</tr>\n",
       "</table>\n",
       "<table class=\"simpletable\">\n",
       "<tr>\n",
       "                  <td></td>                    <th>coef</th>     <th>std err</th>      <th>t</th>      <th>P>|t|</th> <th>[95.0% Conf. Int.]</th> \n",
       "</tr>\n",
       "<tr>\n",
       "  <th>target</th>                           <td>    0.4105</td> <td>    0.074</td> <td>    5.556</td> <td> 0.000</td> <td>    0.265     0.556</td>\n",
       "</tr>\n",
       "<tr>\n",
       "  <th>date_duration</th>                    <td> 2748.3264</td> <td> 3.03e+04</td> <td>    0.091</td> <td> 0.928</td> <td>-5.68e+04  6.23e+04</td>\n",
       "</tr>\n",
       "<tr>\n",
       "  <th>category_label_art/photo/exhibit</th> <td>-9.424e+05</td> <td> 4.18e+06</td> <td>   -0.225</td> <td> 0.822</td> <td>-9.16e+06  7.27e+06</td>\n",
       "</tr>\n",
       "<tr>\n",
       "  <th>category_label_book/movie</th>        <td>-5.723e+05</td> <td> 4.03e+06</td> <td>   -0.142</td> <td> 0.887</td> <td>-8.48e+06  7.33e+06</td>\n",
       "</tr>\n",
       "<tr>\n",
       "  <th>category_label_education</th>         <td> 1.454e+05</td> <td>    4e+06</td> <td>    0.036</td> <td> 0.971</td> <td>-7.71e+06     8e+06</td>\n",
       "</tr>\n",
       "<tr>\n",
       "  <th>category_label_environment</th>       <td> 7.616e+06</td> <td> 4.26e+06</td> <td>    1.789</td> <td> 0.074</td> <td>-7.44e+05   1.6e+07</td>\n",
       "</tr>\n",
       "<tr>\n",
       "  <th>category_label_figure/webtoon</th>    <td> 2.247e+06</td> <td> 7.62e+06</td> <td>    0.295</td> <td> 0.768</td> <td>-1.27e+07  1.72e+07</td>\n",
       "</tr>\n",
       "<tr>\n",
       "  <th>category_label_game/comics</th>       <td>-2.824e+06</td> <td> 5.69e+06</td> <td>   -0.496</td> <td> 0.620</td> <td> -1.4e+07  8.36e+06</td>\n",
       "</tr>\n",
       "<tr>\n",
       "  <th>category_label_life/fashion</th>      <td> 3.672e+06</td> <td> 3.77e+06</td> <td>    0.975</td> <td> 0.330</td> <td>-3.73e+06  1.11e+07</td>\n",
       "</tr>\n",
       "<tr>\n",
       "  <th>category_label_music/concert</th>     <td> 1.279e+06</td> <td> 4.09e+06</td> <td>    0.313</td> <td> 0.755</td> <td>-6.75e+06  9.31e+06</td>\n",
       "</tr>\n",
       "<tr>\n",
       "  <th>category_label_share/public</th>      <td>  3.21e+05</td> <td> 3.68e+06</td> <td>    0.087</td> <td> 0.930</td> <td> -6.9e+06  7.55e+06</td>\n",
       "</tr>\n",
       "<tr>\n",
       "  <th>category_label_sports</th>            <td>-2.905e+06</td> <td>  4.6e+06</td> <td>   -0.631</td> <td> 0.528</td> <td>-1.19e+07  6.14e+06</td>\n",
       "</tr>\n",
       "<tr>\n",
       "  <th>category_label_tech/design</th>       <td> 1.796e+06</td> <td> 3.81e+06</td> <td>    0.472</td> <td> 0.637</td> <td>-5.68e+06  9.27e+06</td>\n",
       "</tr>\n",
       "<tr>\n",
       "  <th>category_label_travel</th>            <td>-1.977e+06</td> <td> 4.58e+06</td> <td>   -0.432</td> <td> 0.666</td> <td> -1.1e+07  7.01e+06</td>\n",
       "</tr>\n",
       "<tr>\n",
       "  <th>category_label_busan</th>             <td> 1.878e+06</td> <td> 4.71e+06</td> <td>    0.398</td> <td> 0.691</td> <td>-7.38e+06  1.11e+07</td>\n",
       "</tr>\n",
       "<tr>\n",
       "  <th>category_label_chungbuk</th>          <td>-1.656e+06</td> <td> 5.81e+06</td> <td>   -0.285</td> <td> 0.776</td> <td>-1.31e+07  9.76e+06</td>\n",
       "</tr>\n",
       "<tr>\n",
       "  <th>category_label_chungnam</th>          <td>-2.774e+04</td> <td> 5.55e+06</td> <td>   -0.005</td> <td> 0.996</td> <td>-1.09e+07  1.09e+07</td>\n",
       "</tr>\n",
       "<tr>\n",
       "  <th>category_label_deagu</th>             <td>-2.256e+06</td> <td> 5.77e+06</td> <td>   -0.391</td> <td> 0.696</td> <td>-1.36e+07  9.09e+06</td>\n",
       "</tr>\n",
       "<tr>\n",
       "  <th>category_label_deajeon</th>           <td> -2.18e+06</td> <td>  6.1e+06</td> <td>   -0.357</td> <td> 0.721</td> <td>-1.42e+07  9.81e+06</td>\n",
       "</tr>\n",
       "<tr>\n",
       "  <th>category_label_gwangju</th>           <td> 1.909e+06</td> <td> 7.84e+06</td> <td>    0.243</td> <td> 0.808</td> <td>-1.35e+07  1.73e+07</td>\n",
       "</tr>\n",
       "<tr>\n",
       "  <th>category_label_incheon</th>           <td> 1.179e+05</td> <td> 4.81e+06</td> <td>    0.024</td> <td> 0.980</td> <td>-9.34e+06  9.57e+06</td>\n",
       "</tr>\n",
       "<tr>\n",
       "  <th>category_label_jeju</th>              <td>-9.519e+05</td> <td> 1.22e+07</td> <td>   -0.078</td> <td> 0.938</td> <td> -2.5e+07  2.31e+07</td>\n",
       "</tr>\n",
       "<tr>\n",
       "  <th>category_label_jeonbuk</th>           <td>-2.594e+06</td> <td> 5.62e+06</td> <td>   -0.462</td> <td> 0.644</td> <td>-1.36e+07  8.44e+06</td>\n",
       "</tr>\n",
       "<tr>\n",
       "  <th>category_label_jeonnam</th>           <td> 2.531e-06</td> <td> 5.83e-06</td> <td>    0.434</td> <td> 0.664</td> <td>-8.91e-06   1.4e-05</td>\n",
       "</tr>\n",
       "<tr>\n",
       "  <th>category_label_kangwon</th>           <td> -8.71e+05</td> <td> 5.47e+06</td> <td>   -0.159</td> <td> 0.874</td> <td>-1.16e+07  9.88e+06</td>\n",
       "</tr>\n",
       "<tr>\n",
       "  <th>category_label_kyungbuk</th>          <td>-8.884e+05</td> <td> 5.04e+06</td> <td>   -0.176</td> <td> 0.860</td> <td>-1.08e+07  9.02e+06</td>\n",
       "</tr>\n",
       "<tr>\n",
       "  <th>category_label_kyungki</th>           <td>-2.186e+05</td> <td> 3.79e+06</td> <td>   -0.058</td> <td> 0.954</td> <td>-7.66e+06  7.22e+06</td>\n",
       "</tr>\n",
       "<tr>\n",
       "  <th>category_label_kyungnam</th>          <td> 2.961e+06</td> <td> 6.09e+06</td> <td>    0.486</td> <td> 0.627</td> <td>   -9e+06  1.49e+07</td>\n",
       "</tr>\n",
       "<tr>\n",
       "  <th>category_label_sejong</th>            <td>-3.095e+06</td> <td> 1.25e+07</td> <td>   -0.248</td> <td> 0.804</td> <td>-2.76e+07  2.14e+07</td>\n",
       "</tr>\n",
       "<tr>\n",
       "  <th>category_label_seoul</th>             <td> 1.988e+06</td> <td> 3.74e+06</td> <td>    0.532</td> <td> 0.595</td> <td>-5.35e+06  9.32e+06</td>\n",
       "</tr>\n",
       "<tr>\n",
       "  <th>category_label_ulsan</th>             <td> 1.431e+06</td> <td> 1.23e+07</td> <td>    0.116</td> <td> 0.908</td> <td>-2.28e+07  2.57e+07</td>\n",
       "</tr>\n",
       "<tr>\n",
       "  <th>provider_grammar_level</th>           <td> 4.995e+06</td> <td> 5.34e+06</td> <td>    0.935</td> <td> 0.350</td> <td> -5.5e+06  1.55e+07</td>\n",
       "</tr>\n",
       "</table>\n",
       "<table class=\"simpletable\">\n",
       "<tr>\n",
       "  <th>Omnibus:</th>       <td>721.549</td> <th>  Durbin-Watson:     </th> <td>   1.922</td> \n",
       "</tr>\n",
       "<tr>\n",
       "  <th>Prob(Omnibus):</th> <td> 0.000</td>  <th>  Jarque-Bera (JB):  </th> <td>64644.665</td>\n",
       "</tr>\n",
       "<tr>\n",
       "  <th>Skew:</th>          <td> 5.941</td>  <th>  Prob(JB):          </th> <td>    0.00</td> \n",
       "</tr>\n",
       "<tr>\n",
       "  <th>Kurtosis:</th>      <td>52.618</td>  <th>  Cond. No.          </th> <td>1.00e+16</td> \n",
       "</tr>\n",
       "</table>"
      ],
      "text/plain": [
       "<class 'statsmodels.iolib.summary.Summary'>\n",
       "\"\"\"\n",
       "                            OLS Regression Results                            \n",
       "==============================================================================\n",
       "Dep. Variable:                 result   R-squared:                       0.094\n",
       "Model:                            OLS   Adj. R-squared:                  0.045\n",
       "Method:                 Least Squares   F-statistic:                     1.943\n",
       "Date:                Fri, 08 Apr 2016   Prob (F-statistic):            0.00219\n",
       "Time:                        02:38:47   Log-Likelihood:                -10526.\n",
       "No. Observations:                 596   AIC:                         2.111e+04\n",
       "Df Residuals:                     565   BIC:                         2.125e+04\n",
       "Df Model:                          30                                         \n",
       "Covariance Type:            nonrobust                                         \n",
       "====================================================================================================\n",
       "                                       coef    std err          t      P>|t|      [95.0% Conf. Int.]\n",
       "----------------------------------------------------------------------------------------------------\n",
       "target                               0.4105      0.074      5.556      0.000         0.265     0.556\n",
       "date_duration                     2748.3264   3.03e+04      0.091      0.928     -5.68e+04  6.23e+04\n",
       "category_label_art/photo/exhibit -9.424e+05   4.18e+06     -0.225      0.822     -9.16e+06  7.27e+06\n",
       "category_label_book/movie        -5.723e+05   4.03e+06     -0.142      0.887     -8.48e+06  7.33e+06\n",
       "category_label_education          1.454e+05      4e+06      0.036      0.971     -7.71e+06     8e+06\n",
       "category_label_environment        7.616e+06   4.26e+06      1.789      0.074     -7.44e+05   1.6e+07\n",
       "category_label_figure/webtoon     2.247e+06   7.62e+06      0.295      0.768     -1.27e+07  1.72e+07\n",
       "category_label_game/comics       -2.824e+06   5.69e+06     -0.496      0.620      -1.4e+07  8.36e+06\n",
       "category_label_life/fashion       3.672e+06   3.77e+06      0.975      0.330     -3.73e+06  1.11e+07\n",
       "category_label_music/concert      1.279e+06   4.09e+06      0.313      0.755     -6.75e+06  9.31e+06\n",
       "category_label_share/public        3.21e+05   3.68e+06      0.087      0.930      -6.9e+06  7.55e+06\n",
       "category_label_sports            -2.905e+06    4.6e+06     -0.631      0.528     -1.19e+07  6.14e+06\n",
       "category_label_tech/design        1.796e+06   3.81e+06      0.472      0.637     -5.68e+06  9.27e+06\n",
       "category_label_travel            -1.977e+06   4.58e+06     -0.432      0.666      -1.1e+07  7.01e+06\n",
       "category_label_busan              1.878e+06   4.71e+06      0.398      0.691     -7.38e+06  1.11e+07\n",
       "category_label_chungbuk          -1.656e+06   5.81e+06     -0.285      0.776     -1.31e+07  9.76e+06\n",
       "category_label_chungnam          -2.774e+04   5.55e+06     -0.005      0.996     -1.09e+07  1.09e+07\n",
       "category_label_deagu             -2.256e+06   5.77e+06     -0.391      0.696     -1.36e+07  9.09e+06\n",
       "category_label_deajeon            -2.18e+06    6.1e+06     -0.357      0.721     -1.42e+07  9.81e+06\n",
       "category_label_gwangju            1.909e+06   7.84e+06      0.243      0.808     -1.35e+07  1.73e+07\n",
       "category_label_incheon            1.179e+05   4.81e+06      0.024      0.980     -9.34e+06  9.57e+06\n",
       "category_label_jeju              -9.519e+05   1.22e+07     -0.078      0.938      -2.5e+07  2.31e+07\n",
       "category_label_jeonbuk           -2.594e+06   5.62e+06     -0.462      0.644     -1.36e+07  8.44e+06\n",
       "category_label_jeonnam            2.531e-06   5.83e-06      0.434      0.664     -8.91e-06   1.4e-05\n",
       "category_label_kangwon            -8.71e+05   5.47e+06     -0.159      0.874     -1.16e+07  9.88e+06\n",
       "category_label_kyungbuk          -8.884e+05   5.04e+06     -0.176      0.860     -1.08e+07  9.02e+06\n",
       "category_label_kyungki           -2.186e+05   3.79e+06     -0.058      0.954     -7.66e+06  7.22e+06\n",
       "category_label_kyungnam           2.961e+06   6.09e+06      0.486      0.627        -9e+06  1.49e+07\n",
       "category_label_sejong            -3.095e+06   1.25e+07     -0.248      0.804     -2.76e+07  2.14e+07\n",
       "category_label_seoul              1.988e+06   3.74e+06      0.532      0.595     -5.35e+06  9.32e+06\n",
       "category_label_ulsan              1.431e+06   1.23e+07      0.116      0.908     -2.28e+07  2.57e+07\n",
       "provider_grammar_level            4.995e+06   5.34e+06      0.935      0.350      -5.5e+06  1.55e+07\n",
       "==============================================================================\n",
       "Omnibus:                      721.549   Durbin-Watson:                   1.922\n",
       "Prob(Omnibus):                  0.000   Jarque-Bera (JB):            64644.665\n",
       "Skew:                           5.941   Prob(JB):                         0.00\n",
       "Kurtosis:                      52.618   Cond. No.                     1.00e+16\n",
       "==============================================================================\n",
       "\n",
       "Warnings:\n",
       "[1] Standard Errors assume that the covariance matrix of the errors is correctly specified.\n",
       "[2] The smallest eigenvalue is 4.01e-16. This might indicate that there are\n",
       "strong multicollinearity problems or that the design matrix is singular.\n",
       "\"\"\""
      ]
     },
     "execution_count": 6,
     "metadata": {},
     "output_type": "execute_result"
    }
   ],
   "source": [
    "static_reg_model.summary()"
   ]
  },
  {
   "cell_type": "markdown",
   "metadata": {},
   "source": [
    "* 너무 많은 카테고리와 OLS모형에 영향을 미치지않는 feature들로 인해 R^2값이 아주 낮음\n",
    "* 카테고리값 제거 후 재분석"
   ]
  },
  {
   "cell_type": "code",
   "execution_count": 7,
   "metadata": {
    "collapsed": false,
    "scrolled": false
   },
   "outputs": [
    {
     "data": {
      "text/html": [
       "<table class=\"simpletable\">\n",
       "<caption>OLS Regression Results</caption>\n",
       "<tr>\n",
       "  <th>Dep. Variable:</th>         <td>result</td>      <th>  R-squared:         </th> <td>   0.195</td> \n",
       "</tr>\n",
       "<tr>\n",
       "  <th>Model:</th>                   <td>OLS</td>       <th>  Adj. R-squared:    </th> <td>   0.191</td> \n",
       "</tr>\n",
       "<tr>\n",
       "  <th>Method:</th>             <td>Least Squares</td>  <th>  F-statistic:       </th> <td>   47.89</td> \n",
       "</tr>\n",
       "<tr>\n",
       "  <th>Date:</th>             <td>Fri, 08 Apr 2016</td> <th>  Prob (F-statistic):</th> <td>1.00e-27</td> \n",
       "</tr>\n",
       "<tr>\n",
       "  <th>Time:</th>                 <td>02:38:47</td>     <th>  Log-Likelihood:    </th> <td> -10540.</td> \n",
       "</tr>\n",
       "<tr>\n",
       "  <th>No. Observations:</th>      <td>   596</td>      <th>  AIC:               </th> <td>2.109e+04</td>\n",
       "</tr>\n",
       "<tr>\n",
       "  <th>Df Residuals:</th>          <td>   593</td>      <th>  BIC:               </th> <td>2.110e+04</td>\n",
       "</tr>\n",
       "<tr>\n",
       "  <th>Df Model:</th>              <td>     3</td>      <th>                     </th>     <td> </td>    \n",
       "</tr>\n",
       "<tr>\n",
       "  <th>Covariance Type:</th>      <td>nonrobust</td>    <th>                     </th>     <td> </td>    \n",
       "</tr>\n",
       "</table>\n",
       "<table class=\"simpletable\">\n",
       "<tr>\n",
       "             <td></td>               <th>coef</th>     <th>std err</th>      <th>t</th>      <th>P>|t|</th> <th>[95.0% Conf. Int.]</th> \n",
       "</tr>\n",
       "<tr>\n",
       "  <th>target</th>                 <td>    0.4451</td> <td>    0.071</td> <td>    6.279</td> <td> 0.000</td> <td>    0.306     0.584</td>\n",
       "</tr>\n",
       "<tr>\n",
       "  <th>date_duration</th>          <td> 3.882e+04</td> <td> 1.97e+04</td> <td>    1.972</td> <td> 0.049</td> <td>  148.569  7.75e+04</td>\n",
       "</tr>\n",
       "<tr>\n",
       "  <th>provider_grammar_level</th> <td> 8.834e+06</td> <td> 4.52e+06</td> <td>    1.955</td> <td> 0.051</td> <td>-3.92e+04  1.77e+07</td>\n",
       "</tr>\n",
       "</table>\n",
       "<table class=\"simpletable\">\n",
       "<tr>\n",
       "  <th>Omnibus:</th>       <td>739.038</td> <th>  Durbin-Watson:     </th> <td>   1.881</td> \n",
       "</tr>\n",
       "<tr>\n",
       "  <th>Prob(Omnibus):</th> <td> 0.000</td>  <th>  Jarque-Bera (JB):  </th> <td>71061.903</td>\n",
       "</tr>\n",
       "<tr>\n",
       "  <th>Skew:</th>          <td> 6.177</td>  <th>  Prob(JB):          </th> <td>    0.00</td> \n",
       "</tr>\n",
       "<tr>\n",
       "  <th>Kurtosis:</th>      <td>55.048</td>  <th>  Cond. No.          </th> <td>7.79e+07</td> \n",
       "</tr>\n",
       "</table>"
      ],
      "text/plain": [
       "<class 'statsmodels.iolib.summary.Summary'>\n",
       "\"\"\"\n",
       "                            OLS Regression Results                            \n",
       "==============================================================================\n",
       "Dep. Variable:                 result   R-squared:                       0.195\n",
       "Model:                            OLS   Adj. R-squared:                  0.191\n",
       "Method:                 Least Squares   F-statistic:                     47.89\n",
       "Date:                Fri, 08 Apr 2016   Prob (F-statistic):           1.00e-27\n",
       "Time:                        02:38:47   Log-Likelihood:                -10540.\n",
       "No. Observations:                 596   AIC:                         2.109e+04\n",
       "Df Residuals:                     593   BIC:                         2.110e+04\n",
       "Df Model:                           3                                         \n",
       "Covariance Type:            nonrobust                                         \n",
       "==========================================================================================\n",
       "                             coef    std err          t      P>|t|      [95.0% Conf. Int.]\n",
       "------------------------------------------------------------------------------------------\n",
       "target                     0.4451      0.071      6.279      0.000         0.306     0.584\n",
       "date_duration           3.882e+04   1.97e+04      1.972      0.049       148.569  7.75e+04\n",
       "provider_grammar_level  8.834e+06   4.52e+06      1.955      0.051     -3.92e+04  1.77e+07\n",
       "==============================================================================\n",
       "Omnibus:                      739.038   Durbin-Watson:                   1.881\n",
       "Prob(Omnibus):                  0.000   Jarque-Bera (JB):            71061.903\n",
       "Skew:                           6.177   Prob(JB):                         0.00\n",
       "Kurtosis:                      55.048   Cond. No.                     7.79e+07\n",
       "==============================================================================\n",
       "\n",
       "Warnings:\n",
       "[1] Standard Errors assume that the covariance matrix of the errors is correctly specified.\n",
       "[2] The condition number is large, 7.79e+07. This might indicate that there are\n",
       "strong multicollinearity or other numerical problems.\n",
       "\"\"\""
      ]
     },
     "execution_count": 7,
     "metadata": {},
     "output_type": "execute_result"
    }
   ],
   "source": [
    "# category, area 제거\n",
    "x_static_2 = pd.DataFrame([wadiz_df[u'target'], wadiz_df['date_duration'], \n",
    "                           wadiz_df['provider_grammar_level']]).T\n",
    "static_reg_model_2 = sm.OLS(y, x_static_2).fit()\n",
    "static_reg_model_2.summary()"
   ]
  },
  {
   "cell_type": "markdown",
   "metadata": {},
   "source": [
    "*샘플의 개수에 비해 카테고리가 너무 많아 카테고리값들을 제거하여 R^2 값이 올라감.* \n",
    "*하지만 grammar_level의 p-value > 0.05 이므로 95%의 신뢰도하에서는 기각됨*"
   ]
  },
  {
   "cell_type": "code",
   "execution_count": 8,
   "metadata": {
    "collapsed": false
   },
   "outputs": [
    {
     "data": {
      "text/html": [
       "<table class=\"simpletable\">\n",
       "<caption>OLS Regression Results</caption>\n",
       "<tr>\n",
       "  <th>Dep. Variable:</th>         <td>result</td>      <th>  R-squared:         </th> <td>   0.190</td> \n",
       "</tr>\n",
       "<tr>\n",
       "  <th>Model:</th>                   <td>OLS</td>       <th>  Adj. R-squared:    </th> <td>   0.187</td> \n",
       "</tr>\n",
       "<tr>\n",
       "  <th>Method:</th>             <td>Least Squares</td>  <th>  F-statistic:       </th> <td>   69.60</td> \n",
       "</tr>\n",
       "<tr>\n",
       "  <th>Date:</th>             <td>Fri, 08 Apr 2016</td> <th>  Prob (F-statistic):</th> <td>6.99e-28</td> \n",
       "</tr>\n",
       "<tr>\n",
       "  <th>Time:</th>                 <td>02:38:47</td>     <th>  Log-Likelihood:    </th> <td> -10542.</td> \n",
       "</tr>\n",
       "<tr>\n",
       "  <th>No. Observations:</th>      <td>   596</td>      <th>  AIC:               </th> <td>2.109e+04</td>\n",
       "</tr>\n",
       "<tr>\n",
       "  <th>Df Residuals:</th>          <td>   594</td>      <th>  BIC:               </th> <td>2.110e+04</td>\n",
       "</tr>\n",
       "<tr>\n",
       "  <th>Df Model:</th>              <td>     2</td>      <th>                     </th>     <td> </td>    \n",
       "</tr>\n",
       "<tr>\n",
       "  <th>Covariance Type:</th>      <td>nonrobust</td>    <th>                     </th>     <td> </td>    \n",
       "</tr>\n",
       "</table>\n",
       "<table class=\"simpletable\">\n",
       "<tr>\n",
       "        <td></td>           <th>coef</th>     <th>std err</th>      <th>t</th>      <th>P>|t|</th> <th>[95.0% Conf. Int.]</th> \n",
       "</tr>\n",
       "<tr>\n",
       "  <th>target</th>        <td>    0.4485</td> <td>    0.071</td> <td>    6.314</td> <td> 0.000</td> <td>    0.309     0.588</td>\n",
       "</tr>\n",
       "<tr>\n",
       "  <th>date_duration</th> <td> 6.514e+04</td> <td> 1.44e+04</td> <td>    4.521</td> <td> 0.000</td> <td> 3.68e+04  9.34e+04</td>\n",
       "</tr>\n",
       "</table>\n",
       "<table class=\"simpletable\">\n",
       "<tr>\n",
       "  <th>Omnibus:</th>       <td>737.398</td> <th>  Durbin-Watson:     </th> <td>   1.874</td> \n",
       "</tr>\n",
       "<tr>\n",
       "  <th>Prob(Omnibus):</th> <td> 0.000</td>  <th>  Jarque-Bera (JB):  </th> <td>70773.732</td>\n",
       "</tr>\n",
       "<tr>\n",
       "  <th>Skew:</th>          <td> 6.152</td>  <th>  Prob(JB):          </th> <td>    0.00</td> \n",
       "</tr>\n",
       "<tr>\n",
       "  <th>Kurtosis:</th>      <td>54.948</td>  <th>  Cond. No.          </th> <td>2.48e+05</td> \n",
       "</tr>\n",
       "</table>"
      ],
      "text/plain": [
       "<class 'statsmodels.iolib.summary.Summary'>\n",
       "\"\"\"\n",
       "                            OLS Regression Results                            \n",
       "==============================================================================\n",
       "Dep. Variable:                 result   R-squared:                       0.190\n",
       "Model:                            OLS   Adj. R-squared:                  0.187\n",
       "Method:                 Least Squares   F-statistic:                     69.60\n",
       "Date:                Fri, 08 Apr 2016   Prob (F-statistic):           6.99e-28\n",
       "Time:                        02:38:47   Log-Likelihood:                -10542.\n",
       "No. Observations:                 596   AIC:                         2.109e+04\n",
       "Df Residuals:                     594   BIC:                         2.110e+04\n",
       "Df Model:                           2                                         \n",
       "Covariance Type:            nonrobust                                         \n",
       "=================================================================================\n",
       "                    coef    std err          t      P>|t|      [95.0% Conf. Int.]\n",
       "---------------------------------------------------------------------------------\n",
       "target            0.4485      0.071      6.314      0.000         0.309     0.588\n",
       "date_duration  6.514e+04   1.44e+04      4.521      0.000      3.68e+04  9.34e+04\n",
       "==============================================================================\n",
       "Omnibus:                      737.398   Durbin-Watson:                   1.874\n",
       "Prob(Omnibus):                  0.000   Jarque-Bera (JB):            70773.732\n",
       "Skew:                           6.152   Prob(JB):                         0.00\n",
       "Kurtosis:                      54.948   Cond. No.                     2.48e+05\n",
       "==============================================================================\n",
       "\n",
       "Warnings:\n",
       "[1] Standard Errors assume that the covariance matrix of the errors is correctly specified.\n",
       "[2] The condition number is large, 2.48e+05. This might indicate that there are\n",
       "strong multicollinearity or other numerical problems.\n",
       "\"\"\""
      ]
     },
     "execution_count": 8,
     "metadata": {},
     "output_type": "execute_result"
    }
   ],
   "source": [
    "# grammar_level 변수 제거\n",
    "x_static_3 = pd.DataFrame([wadiz_df['target'], wadiz_df['date_duration']]).T\n",
    "static_reg_model_3 = sm.OLS(y, x_static_3).fit()\n",
    "static_reg_model_3.summary()"
   ]
  },
  {
   "cell_type": "markdown",
   "metadata": {},
   "source": [
    "*R^2 값은 조금 떨어지지만 target과 date_duration은 result값 예측 모형에 영향을 미침*"
   ]
  },
  {
   "cell_type": "code",
   "execution_count": 9,
   "metadata": {
    "collapsed": false
   },
   "outputs": [
    {
     "data": {
      "text/html": [
       "<table class=\"simpletable\">\n",
       "<caption>OLS Regression Results</caption>\n",
       "<tr>\n",
       "  <th>Dep. Variable:</th>         <td>result</td>      <th>  R-squared:         </th> <td>   0.135</td> \n",
       "</tr>\n",
       "<tr>\n",
       "  <th>Model:</th>                   <td>OLS</td>       <th>  Adj. R-squared:    </th> <td>   0.134</td> \n",
       "</tr>\n",
       "<tr>\n",
       "  <th>Method:</th>             <td>Least Squares</td>  <th>  F-statistic:       </th> <td>   93.23</td> \n",
       "</tr>\n",
       "<tr>\n",
       "  <th>Date:</th>             <td>Fri, 08 Apr 2016</td> <th>  Prob (F-statistic):</th> <td>1.37e-20</td> \n",
       "</tr>\n",
       "<tr>\n",
       "  <th>Time:</th>                 <td>02:38:47</td>     <th>  Log-Likelihood:    </th> <td> -10561.</td> \n",
       "</tr>\n",
       "<tr>\n",
       "  <th>No. Observations:</th>      <td>   596</td>      <th>  AIC:               </th> <td>2.112e+04</td>\n",
       "</tr>\n",
       "<tr>\n",
       "  <th>Df Residuals:</th>          <td>   595</td>      <th>  BIC:               </th> <td>2.113e+04</td>\n",
       "</tr>\n",
       "<tr>\n",
       "  <th>Df Model:</th>              <td>     1</td>      <th>                     </th>     <td> </td>    \n",
       "</tr>\n",
       "<tr>\n",
       "  <th>Covariance Type:</th>      <td>nonrobust</td>    <th>                     </th>     <td> </td>    \n",
       "</tr>\n",
       "</table>\n",
       "<table class=\"simpletable\">\n",
       "<tr>\n",
       "        <td></td>           <th>coef</th>     <th>std err</th>      <th>t</th>      <th>P>|t|</th> <th>[95.0% Conf. Int.]</th> \n",
       "</tr>\n",
       "<tr>\n",
       "  <th>date_duration</th> <td> 1.175e+05</td> <td> 1.22e+04</td> <td>    9.656</td> <td> 0.000</td> <td> 9.36e+04  1.41e+05</td>\n",
       "</tr>\n",
       "</table>\n",
       "<table class=\"simpletable\">\n",
       "<tr>\n",
       "  <th>Omnibus:</th>       <td>738.061</td> <th>  Durbin-Watson:     </th> <td>   1.854</td> \n",
       "</tr>\n",
       "<tr>\n",
       "  <th>Prob(Omnibus):</th> <td> 0.000</td>  <th>  Jarque-Bera (JB):  </th> <td>65048.389</td>\n",
       "</tr>\n",
       "<tr>\n",
       "  <th>Skew:</th>          <td> 6.208</td>  <th>  Prob(JB):          </th> <td>    0.00</td> \n",
       "</tr>\n",
       "<tr>\n",
       "  <th>Kurtosis:</th>      <td>52.651</td>  <th>  Cond. No.          </th> <td>    1.00</td> \n",
       "</tr>\n",
       "</table>"
      ],
      "text/plain": [
       "<class 'statsmodels.iolib.summary.Summary'>\n",
       "\"\"\"\n",
       "                            OLS Regression Results                            \n",
       "==============================================================================\n",
       "Dep. Variable:                 result   R-squared:                       0.135\n",
       "Model:                            OLS   Adj. R-squared:                  0.134\n",
       "Method:                 Least Squares   F-statistic:                     93.23\n",
       "Date:                Fri, 08 Apr 2016   Prob (F-statistic):           1.37e-20\n",
       "Time:                        02:38:47   Log-Likelihood:                -10561.\n",
       "No. Observations:                 596   AIC:                         2.112e+04\n",
       "Df Residuals:                     595   BIC:                         2.113e+04\n",
       "Df Model:                           1                                         \n",
       "Covariance Type:            nonrobust                                         \n",
       "=================================================================================\n",
       "                    coef    std err          t      P>|t|      [95.0% Conf. Int.]\n",
       "---------------------------------------------------------------------------------\n",
       "date_duration  1.175e+05   1.22e+04      9.656      0.000      9.36e+04  1.41e+05\n",
       "==============================================================================\n",
       "Omnibus:                      738.061   Durbin-Watson:                   1.854\n",
       "Prob(Omnibus):                  0.000   Jarque-Bera (JB):            65048.389\n",
       "Skew:                           6.208   Prob(JB):                         0.00\n",
       "Kurtosis:                      52.651   Cond. No.                         1.00\n",
       "==============================================================================\n",
       "\n",
       "Warnings:\n",
       "[1] Standard Errors assume that the covariance matrix of the errors is correctly specified.\n",
       "\"\"\""
      ]
     },
     "execution_count": 9,
     "metadata": {},
     "output_type": "execute_result"
    }
   ],
   "source": [
    "#date_duration만 사용하였을때\n",
    "x_static_4 = pd.DataFrame([wadiz_df['date_duration']]).T\n",
    "static_reg_model_4 = sm.OLS(y, x_static_4).fit()\n",
    "static_reg_model_4.summary()"
   ]
  },
  {
   "cell_type": "code",
   "execution_count": 10,
   "metadata": {
    "collapsed": false,
    "scrolled": false
   },
   "outputs": [
    {
     "data": {
      "text/html": [
       "<table class=\"simpletable\">\n",
       "<caption>OLS Regression Results</caption>\n",
       "<tr>\n",
       "  <th>Dep. Variable:</th>         <td>result</td>      <th>  R-squared:         </th> <td>   0.162</td> \n",
       "</tr>\n",
       "<tr>\n",
       "  <th>Model:</th>                   <td>OLS</td>       <th>  Adj. R-squared:    </th> <td>   0.161</td> \n",
       "</tr>\n",
       "<tr>\n",
       "  <th>Method:</th>             <td>Least Squares</td>  <th>  F-statistic:       </th> <td>   115.0</td> \n",
       "</tr>\n",
       "<tr>\n",
       "  <th>Date:</th>             <td>Fri, 08 Apr 2016</td> <th>  Prob (F-statistic):</th> <td>1.19e-24</td> \n",
       "</tr>\n",
       "<tr>\n",
       "  <th>Time:</th>                 <td>02:38:47</td>     <th>  Log-Likelihood:    </th> <td> -10552.</td> \n",
       "</tr>\n",
       "<tr>\n",
       "  <th>No. Observations:</th>      <td>   596</td>      <th>  AIC:               </th> <td>2.111e+04</td>\n",
       "</tr>\n",
       "<tr>\n",
       "  <th>Df Residuals:</th>          <td>   595</td>      <th>  BIC:               </th> <td>2.111e+04</td>\n",
       "</tr>\n",
       "<tr>\n",
       "  <th>Df Model:</th>              <td>     1</td>      <th>                     </th>     <td> </td>    \n",
       "</tr>\n",
       "<tr>\n",
       "  <th>Covariance Type:</th>      <td>nonrobust</td>    <th>                     </th>     <td> </td>    \n",
       "</tr>\n",
       "</table>\n",
       "<table class=\"simpletable\">\n",
       "<tr>\n",
       "     <td></td>       <th>coef</th>     <th>std err</th>      <th>t</th>      <th>P>|t|</th> <th>[95.0% Conf. Int.]</th> \n",
       "</tr>\n",
       "<tr>\n",
       "  <th>target</th> <td>    0.6332</td> <td>    0.059</td> <td>   10.724</td> <td> 0.000</td> <td>    0.517     0.749</td>\n",
       "</tr>\n",
       "</table>\n",
       "<table class=\"simpletable\">\n",
       "<tr>\n",
       "  <th>Omnibus:</th>       <td>705.196</td> <th>  Durbin-Watson:     </th> <td>   1.832</td> \n",
       "</tr>\n",
       "<tr>\n",
       "  <th>Prob(Omnibus):</th> <td> 0.000</td>  <th>  Jarque-Bera (JB):  </th> <td>66301.775</td>\n",
       "</tr>\n",
       "<tr>\n",
       "  <th>Skew:</th>          <td> 5.668</td>  <th>  Prob(JB):          </th> <td>    0.00</td> \n",
       "</tr>\n",
       "<tr>\n",
       "  <th>Kurtosis:</th>      <td>53.412</td>  <th>  Cond. No.          </th> <td>    1.00</td> \n",
       "</tr>\n",
       "</table>"
      ],
      "text/plain": [
       "<class 'statsmodels.iolib.summary.Summary'>\n",
       "\"\"\"\n",
       "                            OLS Regression Results                            \n",
       "==============================================================================\n",
       "Dep. Variable:                 result   R-squared:                       0.162\n",
       "Model:                            OLS   Adj. R-squared:                  0.161\n",
       "Method:                 Least Squares   F-statistic:                     115.0\n",
       "Date:                Fri, 08 Apr 2016   Prob (F-statistic):           1.19e-24\n",
       "Time:                        02:38:47   Log-Likelihood:                -10552.\n",
       "No. Observations:                 596   AIC:                         2.111e+04\n",
       "Df Residuals:                     595   BIC:                         2.111e+04\n",
       "Df Model:                           1                                         \n",
       "Covariance Type:            nonrobust                                         \n",
       "==============================================================================\n",
       "                 coef    std err          t      P>|t|      [95.0% Conf. Int.]\n",
       "------------------------------------------------------------------------------\n",
       "target         0.6332      0.059     10.724      0.000         0.517     0.749\n",
       "==============================================================================\n",
       "Omnibus:                      705.196   Durbin-Watson:                   1.832\n",
       "Prob(Omnibus):                  0.000   Jarque-Bera (JB):            66301.775\n",
       "Skew:                           5.668   Prob(JB):                         0.00\n",
       "Kurtosis:                      53.412   Cond. No.                         1.00\n",
       "==============================================================================\n",
       "\n",
       "Warnings:\n",
       "[1] Standard Errors assume that the covariance matrix of the errors is correctly specified.\n",
       "\"\"\""
      ]
     },
     "execution_count": 10,
     "metadata": {},
     "output_type": "execute_result"
    }
   ],
   "source": [
    "#date_duration만 사용하였을때\n",
    "x_static_5 = pd.DataFrame([wadiz_df['target']]).T\n",
    "static_reg_model_5 = sm.OLS(y, x_static_5).fit()\n",
    "static_reg_model_5.summary()"
   ]
  },
  {
   "cell_type": "markdown",
   "metadata": {},
   "source": [
    "### 결국 Target과 Date_duration 변수 2개를 사용한 OLS모형이 최적의 모형임."
   ]
  },
  {
   "cell_type": "markdown",
   "metadata": {},
   "source": [
    "### B. Outlier Test\n",
    "* Outlier들이 결과값에 너무 큰 영향을 미치면 모형에 왜곡이 생기므로 제거해주어야됨.\n",
    "* model_3(target, date_duration)을 이용하여 outlier test"
   ]
  },
  {
   "cell_type": "code",
   "execution_count": 11,
   "metadata": {
    "collapsed": false,
    "scrolled": false
   },
   "outputs": [
    {
     "data": {
      "image/png": "[encoded data removed]",
      "text/plain": [
       "<matplotlib.figure.Figure at 0xb331ba8>"
      ]
     },
     "metadata": {},
     "output_type": "display_data"
    }
   ],
   "source": [
    "fig, ax = plt.subplots(figsize=(10, 8))\n",
    "sm.graphics.influence_plot(static_reg_model_3, plot_alpha=0.3, ax=ax)\n",
    "plt.show()"
   ]
  },
  {
   "cell_type": "code",
   "execution_count": 12,
   "metadata": {
    "collapsed": false,
    "scrolled": true
   },
   "outputs": [],
   "source": [
    "outlier_index = static_reg_model_3.outlier_test()[static_reg_model_3.outlier_test().ix[:, -1].abs() < 0.01].index"
   ]
  },
  {
   "cell_type": "code",
   "execution_count": 13,
   "metadata": {
    "collapsed": false,
    "scrolled": true
   },
   "outputs": [
    {
     "data": {
      "text/html": [
       "<div>\n",
       "<table border=\"1\" class=\"dataframe\">\n",
       "  <thead>\n",
       "    <tr style=\"text-align: right;\">\n",
       "      <th></th>\n",
       "      <th>student_resid</th>\n",
       "      <th>unadj_p</th>\n",
       "      <th>bonf(p)</th>\n",
       "    </tr>\n",
       "  </thead>\n",
       "  <tbody>\n",
       "    <tr>\n",
       "      <th>381</th>\n",
       "      <td>4.995387</td>\n",
       "      <td>7.735568e-07</td>\n",
       "      <td>4.610398e-04</td>\n",
       "    </tr>\n",
       "    <tr>\n",
       "      <th>384</th>\n",
       "      <td>6.788720</td>\n",
       "      <td>2.751223e-11</td>\n",
       "      <td>1.639729e-08</td>\n",
       "    </tr>\n",
       "    <tr>\n",
       "      <th>405</th>\n",
       "      <td>11.713978</td>\n",
       "      <td>1.181186e-28</td>\n",
       "      <td>7.039870e-26</td>\n",
       "    </tr>\n",
       "    <tr>\n",
       "      <th>428</th>\n",
       "      <td>-4.929691</td>\n",
       "      <td>1.070441e-06</td>\n",
       "      <td>6.379828e-04</td>\n",
       "    </tr>\n",
       "    <tr>\n",
       "      <th>481</th>\n",
       "      <td>10.951623</td>\n",
       "      <td>1.512165e-25</td>\n",
       "      <td>9.012504e-23</td>\n",
       "    </tr>\n",
       "    <tr>\n",
       "      <th>487</th>\n",
       "      <td>8.986409</td>\n",
       "      <td>3.392018e-18</td>\n",
       "      <td>2.021643e-15</td>\n",
       "    </tr>\n",
       "    <tr>\n",
       "      <th>519</th>\n",
       "      <td>4.965625</td>\n",
       "      <td>8.966005e-07</td>\n",
       "      <td>5.343739e-04</td>\n",
       "    </tr>\n",
       "    <tr>\n",
       "      <th>532</th>\n",
       "      <td>6.674278</td>\n",
       "      <td>5.713561e-11</td>\n",
       "      <td>3.405283e-08</td>\n",
       "    </tr>\n",
       "  </tbody>\n",
       "</table>\n",
       "</div>"
      ],
      "text/plain": [
       "     student_resid       unadj_p       bonf(p)\n",
       "381       4.995387  7.735568e-07  4.610398e-04\n",
       "384       6.788720  2.751223e-11  1.639729e-08\n",
       "405      11.713978  1.181186e-28  7.039870e-26\n",
       "428      -4.929691  1.070441e-06  6.379828e-04\n",
       "481      10.951623  1.512165e-25  9.012504e-23\n",
       "487       8.986409  3.392018e-18  2.021643e-15\n",
       "519       4.965625  8.966005e-07  5.343739e-04\n",
       "532       6.674278  5.713561e-11  3.405283e-08"
      ]
     },
     "execution_count": 13,
     "metadata": {},
     "output_type": "execute_result"
    }
   ],
   "source": [
    "#outlier test 결과값\n",
    "static_reg_model_3.outlier_test()[static_reg_model_3.outlier_test().ix[:, -1] < 0.01]"
   ]
  },
  {
   "cell_type": "code",
   "execution_count": 14,
   "metadata": {
    "collapsed": false,
    "scrolled": false
   },
   "outputs": [],
   "source": [
    "wadiz_outlier = wadiz_df.loc[outlier_index]\n",
    "wadiz_no_outlier = wadiz_df.drop(outlier_index)"
   ]
  },
  {
   "cell_type": "code",
   "execution_count": 15,
   "metadata": {
    "collapsed": false,
    "scrolled": true
   },
   "outputs": [
    {
     "data": {
      "text/html": [
       "<div>\n",
       "<table border=\"1\" class=\"dataframe\">\n",
       "  <thead>\n",
       "    <tr style=\"text-align: right;\">\n",
       "      <th></th>\n",
       "      <th>project_id</th>\n",
       "      <th>title</th>\n",
       "      <th>area</th>\n",
       "      <th>category</th>\n",
       "      <th>target</th>\n",
       "      <th>result</th>\n",
       "    </tr>\n",
       "  </thead>\n",
       "  <tbody>\n",
       "    <tr>\n",
       "      <th>381</th>\n",
       "      <td>2344.0</td>\n",
       "      <td>비긴어게인 영철버거 프로젝트</td>\n",
       "      <td>seoul</td>\n",
       "      <td>share/public</td>\n",
       "      <td>20000000.0</td>\n",
       "      <td>68115000.0</td>\n",
       "    </tr>\n",
       "    <tr>\n",
       "      <th>384</th>\n",
       "      <td>2383.0</td>\n",
       "      <td>스마트카라로 음식물쓰레기 10톤 줄이기!</td>\n",
       "      <td>seoul</td>\n",
       "      <td>environment</td>\n",
       "      <td>7524000.0</td>\n",
       "      <td>82251600.0</td>\n",
       "    </tr>\n",
       "    <tr>\n",
       "      <th>405</th>\n",
       "      <td>2621.0</td>\n",
       "      <td>랩노쉬 : 삼시세끼 사수 프로젝트</td>\n",
       "      <td>seoul</td>\n",
       "      <td>life/fashion</td>\n",
       "      <td>10000000.0</td>\n",
       "      <td>129962300.0</td>\n",
       "    </tr>\n",
       "    <tr>\n",
       "      <th>428</th>\n",
       "      <td>2876.0</td>\n",
       "      <td>EarWatch_불편했던 블루투스 핸즈프리!!! 이젠 손목에 보관하세요.</td>\n",
       "      <td>kyungki</td>\n",
       "      <td>tech/design</td>\n",
       "      <td>100000000.0</td>\n",
       "      <td>1350000.0</td>\n",
       "    </tr>\n",
       "    <tr>\n",
       "      <th>481</th>\n",
       "      <td>3480.0</td>\n",
       "      <td>가장 편리한 여행을 위한 멀티 백팩 :TOM</td>\n",
       "      <td>seoul</td>\n",
       "      <td>life/fashion</td>\n",
       "      <td>10000000.0</td>\n",
       "      <td>122645000.0</td>\n",
       "    </tr>\n",
       "    <tr>\n",
       "      <th>487</th>\n",
       "      <td>3510.0</td>\n",
       "      <td>앵콜! 스마트카라로 음식물쓰레기 10톤 줄이기</td>\n",
       "      <td>kyungki</td>\n",
       "      <td>environment</td>\n",
       "      <td>7524000.0</td>\n",
       "      <td>103454000.0</td>\n",
       "    </tr>\n",
       "    <tr>\n",
       "      <th>519</th>\n",
       "      <td>3914.0</td>\n",
       "      <td>완전한 미래식사, 밀스 프로젝트</td>\n",
       "      <td>seoul</td>\n",
       "      <td>life/fashion</td>\n",
       "      <td>3000000.0</td>\n",
       "      <td>59920000.0</td>\n",
       "    </tr>\n",
       "    <tr>\n",
       "      <th>532</th>\n",
       "      <td>4035.0</td>\n",
       "      <td>귀욤폭발! 라인프렌즈 공기청정기</td>\n",
       "      <td>seoul</td>\n",
       "      <td>life/fashion</td>\n",
       "      <td>10000000.0</td>\n",
       "      <td>81436000.0</td>\n",
       "    </tr>\n",
       "  </tbody>\n",
       "</table>\n",
       "</div>"
      ],
      "text/plain": [
       "     project_id                                     title     area  \\\n",
       "381      2344.0                           비긴어게인 영철버거 프로젝트    seoul   \n",
       "384      2383.0                    스마트카라로 음식물쓰레기 10톤 줄이기!    seoul   \n",
       "405      2621.0                        랩노쉬 : 삼시세끼 사수 프로젝트    seoul   \n",
       "428      2876.0  EarWatch_불편했던 블루투스 핸즈프리!!! 이젠 손목에 보관하세요.  kyungki   \n",
       "481      3480.0                  가장 편리한 여행을 위한 멀티 백팩 :TOM    seoul   \n",
       "487      3510.0                 앵콜! 스마트카라로 음식물쓰레기 10톤 줄이기  kyungki   \n",
       "519      3914.0                         완전한 미래식사, 밀스 프로젝트    seoul   \n",
       "532      4035.0                         귀욤폭발! 라인프렌즈 공기청정기    seoul   \n",
       "\n",
       "         category       target       result  \n",
       "381  share/public   20000000.0   68115000.0  \n",
       "384   environment    7524000.0   82251600.0  \n",
       "405  life/fashion   10000000.0  129962300.0  \n",
       "428   tech/design  100000000.0    1350000.0  \n",
       "481  life/fashion   10000000.0  122645000.0  \n",
       "487   environment    7524000.0  103454000.0  \n",
       "519  life/fashion    3000000.0   59920000.0  \n",
       "532  life/fashion   10000000.0   81436000.0  "
      ]
     },
     "execution_count": 15,
     "metadata": {},
     "output_type": "execute_result"
    }
   ],
   "source": [
    "#outlier project\n",
    "wadiz_outlier.iloc[:, :6]"
   ]
  },
  {
   "cell_type": "code",
   "execution_count": 16,
   "metadata": {
    "collapsed": false
   },
   "outputs": [
    {
     "data": {
      "text/plain": [
       "381     3.405750\n",
       "384    10.931898\n",
       "405    12.996230\n",
       "428     0.013500\n",
       "481    12.264500\n",
       "487    13.749867\n",
       "519    19.973333\n",
       "532     8.143600\n",
       "Name: funding_rate, dtype: float64"
      ]
     },
     "execution_count": 16,
     "metadata": {},
     "output_type": "execute_result"
    }
   ],
   "source": [
    "wadiz_outlier['funding_rate']"
   ]
  },
  {
   "cell_type": "markdown",
   "metadata": {},
   "source": [
    "***outlier들은 funding_rate값이 너무 높거나 너무 낮은 projects들임***"
   ]
  },
  {
   "cell_type": "code",
   "execution_count": 17,
   "metadata": {
    "collapsed": false,
    "scrolled": false
   },
   "outputs": [
    {
     "data": {
      "text/html": [
       "<table class=\"simpletable\">\n",
       "<caption>OLS Regression Results</caption>\n",
       "<tr>\n",
       "  <th>Dep. Variable:</th>         <td>result</td>      <th>  R-squared:         </th> <td>   0.376</td> \n",
       "</tr>\n",
       "<tr>\n",
       "  <th>Model:</th>                   <td>OLS</td>       <th>  Adj. R-squared:    </th> <td>   0.373</td> \n",
       "</tr>\n",
       "<tr>\n",
       "  <th>Method:</th>             <td>Least Squares</td>  <th>  F-statistic:       </th> <td>   176.2</td> \n",
       "</tr>\n",
       "<tr>\n",
       "  <th>Date:</th>             <td>Fri, 08 Apr 2016</td> <th>  Prob (F-statistic):</th> <td>1.19e-60</td> \n",
       "</tr>\n",
       "<tr>\n",
       "  <th>Time:</th>                 <td>02:38:50</td>     <th>  Log-Likelihood:    </th> <td> -10022.</td> \n",
       "</tr>\n",
       "<tr>\n",
       "  <th>No. Observations:</th>      <td>   588</td>      <th>  AIC:               </th> <td>2.005e+04</td>\n",
       "</tr>\n",
       "<tr>\n",
       "  <th>Df Residuals:</th>          <td>   586</td>      <th>  BIC:               </th> <td>2.006e+04</td>\n",
       "</tr>\n",
       "<tr>\n",
       "  <th>Df Model:</th>              <td>     2</td>      <th>                     </th>     <td> </td>    \n",
       "</tr>\n",
       "<tr>\n",
       "  <th>Covariance Type:</th>      <td>nonrobust</td>    <th>                     </th>     <td> </td>    \n",
       "</tr>\n",
       "</table>\n",
       "<table class=\"simpletable\">\n",
       "<tr>\n",
       "        <td></td>           <th>coef</th>     <th>std err</th>      <th>t</th>      <th>P>|t|</th> <th>[95.0% Conf. Int.]</th> \n",
       "</tr>\n",
       "<tr>\n",
       "  <th>target</th>        <td>    0.5023</td> <td>    0.047</td> <td>   10.755</td> <td> 0.000</td> <td>    0.411     0.594</td>\n",
       "</tr>\n",
       "<tr>\n",
       "  <th>date_duration</th> <td> 3.948e+04</td> <td> 8134.610</td> <td>    4.853</td> <td> 0.000</td> <td> 2.35e+04  5.55e+04</td>\n",
       "</tr>\n",
       "</table>\n",
       "<table class=\"simpletable\">\n",
       "<tr>\n",
       "  <th>Omnibus:</th>       <td>400.338</td> <th>  Durbin-Watson:     </th> <td>   1.964</td>\n",
       "</tr>\n",
       "<tr>\n",
       "  <th>Prob(Omnibus):</th> <td> 0.000</td>  <th>  Jarque-Bera (JB):  </th> <td>6276.959</td>\n",
       "</tr>\n",
       "<tr>\n",
       "  <th>Skew:</th>          <td> 2.802</td>  <th>  Prob(JB):          </th> <td>    0.00</td>\n",
       "</tr>\n",
       "<tr>\n",
       "  <th>Kurtosis:</th>      <td>17.993</td>  <th>  Cond. No.          </th> <td>2.28e+05</td>\n",
       "</tr>\n",
       "</table>"
      ],
      "text/plain": [
       "<class 'statsmodels.iolib.summary.Summary'>\n",
       "\"\"\"\n",
       "                            OLS Regression Results                            \n",
       "==============================================================================\n",
       "Dep. Variable:                 result   R-squared:                       0.376\n",
       "Model:                            OLS   Adj. R-squared:                  0.373\n",
       "Method:                 Least Squares   F-statistic:                     176.2\n",
       "Date:                Fri, 08 Apr 2016   Prob (F-statistic):           1.19e-60\n",
       "Time:                        02:38:50   Log-Likelihood:                -10022.\n",
       "No. Observations:                 588   AIC:                         2.005e+04\n",
       "Df Residuals:                     586   BIC:                         2.006e+04\n",
       "Df Model:                           2                                         \n",
       "Covariance Type:            nonrobust                                         \n",
       "=================================================================================\n",
       "                    coef    std err          t      P>|t|      [95.0% Conf. Int.]\n",
       "---------------------------------------------------------------------------------\n",
       "target            0.5023      0.047     10.755      0.000         0.411     0.594\n",
       "date_duration  3.948e+04   8134.610      4.853      0.000      2.35e+04  5.55e+04\n",
       "==============================================================================\n",
       "Omnibus:                      400.338   Durbin-Watson:                   1.964\n",
       "Prob(Omnibus):                  0.000   Jarque-Bera (JB):             6276.959\n",
       "Skew:                           2.802   Prob(JB):                         0.00\n",
       "Kurtosis:                      17.993   Cond. No.                     2.28e+05\n",
       "==============================================================================\n",
       "\n",
       "Warnings:\n",
       "[1] Standard Errors assume that the covariance matrix of the errors is correctly specified.\n",
       "[2] The condition number is large, 2.28e+05. This might indicate that there are\n",
       "strong multicollinearity or other numerical problems.\n",
       "\"\"\""
      ]
     },
     "execution_count": 17,
     "metadata": {},
     "output_type": "execute_result"
    }
   ],
   "source": [
    "# OLS\n",
    "x_static_3_no_outlier = pd.DataFrame([wadiz_no_outlier['target'], wadiz_no_outlier['date_duration']]).T\n",
    "y_no_outlier = wadiz_no_outlier['result']\n",
    "no_outlier_model = sm.OLS(y_no_outlier, x_static_3_no_outlier).fit()\n",
    "no_outlier_model.summary()"
   ]
  },
  {
   "cell_type": "markdown",
   "metadata": {},
   "source": [
    "### outlier 제거 결과 R^2 0.373으로 대폭 상승"
   ]
  },
  {
   "cell_type": "markdown",
   "metadata": {},
   "source": [
    "### B. OLS Model prediction\n",
    "\n",
    "Attributes : Target, Duration"
   ]
  },
  {
   "cell_type": "code",
   "execution_count": 18,
   "metadata": {
    "collapsed": false
   },
   "outputs": [],
   "source": [
    "reg_predict = no_outlier_model.predict(x_static_3_no_outlier)"
   ]
  },
  {
   "cell_type": "code",
   "execution_count": 19,
   "metadata": {
    "collapsed": false,
    "scrolled": false
   },
   "outputs": [
    {
     "data": {
      "image/png": "[encoded data removed]",
      "text/plain": [
       "<matplotlib.figure.Figure at 0xb2b05f8>"
      ]
     },
     "metadata": {},
     "output_type": "display_data"
    }
   ],
   "source": [
    "plt.figure(figsize = (15,10));\n",
    "plt.plot(x_static_3_no_outlier, reg_predict, 'v', markersize=10, markeredgewidth=1\n",
    "         , markeredgecolor='r', markerfacecolor='None', label = 'prediction');\n",
    "plt.plot(x_static_3_no_outlier, y_no_outlier, 'o', markersize=10, markeredgewidth=1\n",
    "         , markeredgecolor='g', markerfacecolor='None', label = 'real', );\n",
    "plt.legend(fontsize=20);\n",
    "plt.xlabel('Target', fontsize=20);\n",
    "plt.ylabel('Result', fontsize=20);\n",
    "plt.xlim(-5000000, 42000000);\n",
    "plt.ylim(-5000000, 40000000);"
   ]
  },
  {
   "cell_type": "markdown",
   "metadata": {},
   "source": [
    "## #Result\n",
    "### - OLS 모형에서 가장 중요한 Feature는 Target과 Date duration이다.\n",
    "### - Date_duration의 경우 coef가 (+)로 펀딩기간이 길수록 펀딩금액이 많이진다는 가정 확인.\n",
    "### - grammar_level은 전체 금액을 예측하는 모형에서는 영향을 미치지 않는다."
   ]
  },
  {
   "cell_type": "code",
   "execution_count": null,
   "metadata": {
    "collapsed": true
   },
   "outputs": [],
   "source": []
  },
  {
   "cell_type": "code",
   "execution_count": null,
   "metadata": {
    "collapsed": true
   },
   "outputs": [],
   "source": []
  },
  {
   "cell_type": "markdown",
   "metadata": {},
   "source": [
    "## 2. Classification\n",
    "* regression의 결과값이 너무 낮음 -> 그렇다면 성공/실패 예측을 위한 모형에서는 어떤 결과를 가져올까?\n",
    "* regression 모델에서 확인한 outlier들을 제거한 상태에서 분석\n",
    "* Attributes = Target, Duration, Grammar_level\n",
    "* Class = Success(1), Fail(0)\n",
    "* Models = RandomForest, KNN, NaiveBayes"
   ]
  },
  {
   "cell_type": "code",
   "execution_count": 20,
   "metadata": {
    "collapsed": false
   },
   "outputs": [],
   "source": [
    "x_classification = pd.DataFrame([wadiz_no_outlier['target'], wadiz_no_outlier['date_duration'], wadiz_no_outlier['provider_grammar_level']]).T\n",
    "y = wadiz_no_outlier['success']"
   ]
  },
  {
   "cell_type": "markdown",
   "metadata": {},
   "source": [
    "### A. RandomForest"
   ]
  },
  {
   "cell_type": "code",
   "execution_count": 21,
   "metadata": {
    "collapsed": true
   },
   "outputs": [],
   "source": [
    "re = RandomForestClassifier()"
   ]
  },
  {
   "cell_type": "code",
   "execution_count": 22,
   "metadata": {
    "collapsed": false
   },
   "outputs": [],
   "source": [
    "x_re_list_1 = []\n",
    "y_re_list_1 = []\n",
    "\n",
    "for i in range(1, 20):\n",
    "    re_1 = RandomForestClassifier(n_estimators=i)\n",
    "    score = cross_val_score(re_1, x_classification, y, cv=10).mean()\n",
    "    x_re_list_1.append(i)\n",
    "    y_re_list_1.append(score)"
   ]
  },
  {
   "cell_type": "code",
   "execution_count": 23,
   "metadata": {
    "collapsed": false,
    "scrolled": false
   },
   "outputs": [
    {
     "name": "stdout",
     "output_type": "stream",
     "text": [
      "base_success_rate : 51.7 %\n",
      "max_accuracy : 55.8 %\n"
     ]
    },
    {
     "data": {
      "image/png": "[encoded data removed]",
      "text/plain": [
       "<matplotlib.figure.Figure at 0xc00b630>"
      ]
     },
     "metadata": {},
     "output_type": "display_data"
    }
   ],
   "source": [
    "base_success_rate = round((y.value_counts()[1] / len(y)), 2)\n",
    "figure = plt.figure(figsize=(10,8))\n",
    "plt.plot(x_re_list_1, y_re_list_1, 'o--', c = 'r', label = 'Accuracy')\n",
    "plt.axhline(base_success_rate, ls = '--', label = 'base_success_rate')\n",
    "plt.legend(fontsize=15)\n",
    "plt.xlabel('n_estimator', fontsize=15)\n",
    "plt.ylabel('accuracy', fontsize=15)\n",
    "print('base_success_rate :', round((y.value_counts()[1] / len(y))*100, 2), '%')\n",
    "print('max_accuracy :', round(max(y_re_list_1)*100, 2), '%')"
   ]
  },
  {
   "cell_type": "markdown",
   "metadata": {},
   "source": [
    "* RandomForest 결과 최고 정확도는 55.97%"
   ]
  },
  {
   "cell_type": "markdown",
   "metadata": {},
   "source": [
    "### B. Grid Search"
   ]
  },
  {
   "cell_type": "code",
   "execution_count": 24,
   "metadata": {
    "collapsed": true
   },
   "outputs": [],
   "source": [
    "from sklearn.grid_search import GridSearchCV"
   ]
  },
  {
   "cell_type": "code",
   "execution_count": 25,
   "metadata": {
    "collapsed": true
   },
   "outputs": [],
   "source": [
    "# Gridsearch report를 위한 함수 생성\n",
    "from operator import itemgetter\n",
    "def report(grid_scores, n_top=3):\n",
    "    top_scores = sorted(grid_scores, key=itemgetter(1), reverse=True)[:n_top]\n",
    "    for i, score in enumerate(top_scores):\n",
    "        print(\"Model with rank: {0}\".format(i + 1))\n",
    "        print(\"Mean validation score: {0:.3f} (std: {1:.3f})\".format(\n",
    "              score.mean_validation_score,\n",
    "              np.std(score.cv_validation_scores)))\n",
    "        print(\"Parameters: {0}\".format(score.parameters))\n",
    "        print(\"\")"
   ]
  },
  {
   "cell_type": "code",
   "execution_count": 26,
   "metadata": {
    "collapsed": false,
    "scrolled": true
   },
   "outputs": [
    {
     "name": "stdout",
     "output_type": "stream",
     "text": [
      "Model with rank: 1\n",
      "Mean validation score: 0.616 (std: 0.023)\n",
      "Parameters: {'min_samples_leaf': 5, 'max_depth': 5, 'n_estimators': 8, 'max_features': 2, 'min_samples_split': 1}\n",
      "\n",
      "Model with rank: 2\n",
      "Mean validation score: 0.607 (std: 0.029)\n",
      "Parameters: {'min_samples_leaf': 1, 'max_depth': 5, 'n_estimators': 7, 'max_features': 1, 'min_samples_split': 3}\n",
      "\n",
      "Model with rank: 3\n",
      "Mean validation score: 0.605 (std: 0.031)\n",
      "Parameters: {'min_samples_leaf': 10, 'max_depth': 5, 'n_estimators': 5, 'max_features': None, 'min_samples_split': 3}\n",
      "\n"
     ]
    }
   ],
   "source": [
    "#parameter 설정\n",
    "param_grid = {\"max_depth\": [5, 10, None],\n",
    "              \"max_features\": [1, 2, None],\n",
    "              \"min_samples_split\": [1, 3, 5],\n",
    "              \"min_samples_leaf\": [1, 3, 5, 10],\n",
    "              \"n_estimators\" : np.arange(3, 20)}\n",
    "\n",
    "# run grid search\n",
    "grid_search = GridSearchCV(re, param_grid=param_grid)\n",
    "grid_search.fit(x_classification, y)\n",
    "\n",
    "report(grid_search.grid_scores_)"
   ]
  },
  {
   "cell_type": "markdown",
   "metadata": {},
   "source": [
    "* **Grid Search 결과에 따라 최고 Score를 기록한 parameter로 재설정**"
   ]
  },
  {
   "cell_type": "markdown",
   "metadata": {},
   "source": [
    "### C. Cross Validation"
   ]
  },
  {
   "cell_type": "code",
   "execution_count": 27,
   "metadata": {
    "collapsed": true
   },
   "outputs": [],
   "source": [
    "best_re = RandomForestClassifier(max_features=2, min_samples_split=1, n_estimators=15, max_depth=5, min_samples_leaf=10)"
   ]
  },
  {
   "cell_type": "code",
   "execution_count": 28,
   "metadata": {
    "collapsed": false
   },
   "outputs": [],
   "source": [
    "Stkfold = StratifiedKFold(y, n_folds=10)"
   ]
  },
  {
   "cell_type": "code",
   "execution_count": 29,
   "metadata": {
    "collapsed": false
   },
   "outputs": [
    {
     "name": "stdout",
     "output_type": "stream",
     "text": [
      "Mean of Score : 0.585114942529\n",
      "Std of Score : 0.0365757981156\n"
     ]
    }
   ],
   "source": [
    "print('Mean of Score :', np.mean(cross_val_score(best_re, x_classification, y, cv = Stkfold))),\n",
    "print('Std of Score :', np.std(cross_val_score(best_re, x_classification, y, cv = Stkfold)))"
   ]
  },
  {
   "cell_type": "code",
   "execution_count": 30,
   "metadata": {
    "collapsed": false
   },
   "outputs": [
    {
     "data": {
      "text/plain": [
       "RandomForestClassifier(bootstrap=True, class_weight=None, criterion='gini',\n",
       "            max_depth=5, max_features=2, max_leaf_nodes=None,\n",
       "            min_samples_leaf=10, min_samples_split=1,\n",
       "            min_weight_fraction_leaf=0.0, n_estimators=15, n_jobs=1,\n",
       "            oob_score=False, random_state=None, verbose=0,\n",
       "            warm_start=False)"
      ]
     },
     "execution_count": 30,
     "metadata": {},
     "output_type": "execute_result"
    }
   ],
   "source": [
    "best_re.fit(x_classification, y)"
   ]
  },
  {
   "cell_type": "code",
   "execution_count": 31,
   "metadata": {
    "collapsed": false
   },
   "outputs": [
    {
     "data": {
      "text/html": [
       "<div>\n",
       "<table border=\"1\" class=\"dataframe\">\n",
       "  <thead>\n",
       "    <tr style=\"text-align: right;\">\n",
       "      <th></th>\n",
       "      <th>Importance</th>\n",
       "    </tr>\n",
       "  </thead>\n",
       "  <tbody>\n",
       "    <tr>\n",
       "      <th>target</th>\n",
       "      <td>0.259042</td>\n",
       "    </tr>\n",
       "    <tr>\n",
       "      <th>date_duration</th>\n",
       "      <td>0.220541</td>\n",
       "    </tr>\n",
       "    <tr>\n",
       "      <th>provider_grammar_level</th>\n",
       "      <td>0.520417</td>\n",
       "    </tr>\n",
       "  </tbody>\n",
       "</table>\n",
       "</div>"
      ],
      "text/plain": [
       "                        Importance\n",
       "target                    0.259042\n",
       "date_duration             0.220541\n",
       "provider_grammar_level    0.520417"
      ]
     },
     "execution_count": 31,
     "metadata": {},
     "output_type": "execute_result"
    }
   ],
   "source": [
    "# feature importance\n",
    "feature_importance = pd.DataFrame([best_re.feature_importances_], columns=x_classification.columns, index=['Importance']).T\n",
    "feature_importance"
   ]
  },
  {
   "cell_type": "markdown",
   "metadata": {},
   "source": [
    "### #RandomForest 결과\n",
    "* RandomForest의 score는 약 57%로 향상된 모델로 보이나 표준편차가 6%로 결국 전체 분포는 Base_line인 52%에서 크게 벗어나지 못함.\n",
    "* Feature Importance를 살펴본 결과 OLS 모형에서 가장 주효했던 target과 date_duration보다 grammar_level이 더 높은 중요도를 보임"
   ]
  },
  {
   "cell_type": "markdown",
   "metadata": {},
   "source": [
    "### D. KNN"
   ]
  },
  {
   "cell_type": "code",
   "execution_count": 32,
   "metadata": {
    "collapsed": true
   },
   "outputs": [],
   "source": [
    "knn = KNeighborsClassifier()"
   ]
  },
  {
   "cell_type": "code",
   "execution_count": 33,
   "metadata": {
    "collapsed": false
   },
   "outputs": [],
   "source": [
    "knn_model = knn.fit(x_classification, y)"
   ]
  },
  {
   "cell_type": "code",
   "execution_count": 34,
   "metadata": {
    "collapsed": true
   },
   "outputs": [],
   "source": [
    "Stkfold = StratifiedKFold(y, n_folds=10)"
   ]
  },
  {
   "cell_type": "code",
   "execution_count": 35,
   "metadata": {
    "collapsed": false
   },
   "outputs": [
    {
     "name": "stdout",
     "output_type": "stream",
     "text": [
      "KNN Best Score : 0.493448275862\n",
      "KNN Best Score(Standard Error) : 0.0496274933498\n"
     ]
    }
   ],
   "source": [
    "knn_model = knn.fit(x_classification, y)\n",
    "knn_best_score_mean = cross_val_score(knn_model, x_classification, y, cv = 10).mean()\n",
    "knn_best_score_std = cross_val_score(knn_model, x_classification, y, cv = 10).std()\n",
    "print('KNN Best Score :', knn_best_score_mean),\n",
    "print('KNN Best Score(Standard Error) :', knn_best_score_std)"
   ]
  },
  {
   "cell_type": "markdown",
   "metadata": {},
   "source": [
    "??????? 너무 낮은 결과가 나옴.\n",
    "\n",
    "무엇인가가 잘못되었다는 것을 의미.\n",
    "\n",
    "**feature들을 재선택하여 분석**"
   ]
  },
  {
   "cell_type": "code",
   "execution_count": 36,
   "metadata": {
    "collapsed": false
   },
   "outputs": [
    {
     "name": "stdout",
     "output_type": "stream",
     "text": [
      "KNN Best Score : 0.491609195402\n",
      "KNN Best Score(Standard Error) : 0.0480847338595\n"
     ]
    }
   ],
   "source": [
    "# target 제거\n",
    "x_knn_1 = pd.DataFrame([wadiz_no_outlier['date_duration'], wadiz_no_outlier['provider_grammar_level']]).T\n",
    "y_knn_1 = wadiz_no_outlier['success']\n",
    "knn_model_1 = knn.fit(x_knn_1, y_knn_1)\n",
    "knn_best_score_mean_1 = cross_val_score(knn_model_1, x_knn_1, y_knn_1, cv = 10).mean()\n",
    "knn_best_score_std_1 = cross_val_score(knn_model_1, x_knn_1, y_knn_1, cv = 10).std()\n",
    "print('KNN Best Score :', knn_best_score_mean_1),\n",
    "print('KNN Best Score(Standard Error) :', knn_best_score_std_1)"
   ]
  },
  {
   "cell_type": "code",
   "execution_count": 37,
   "metadata": {
    "collapsed": false
   },
   "outputs": [
    {
     "name": "stdout",
     "output_type": "stream",
     "text": [
      "KNN Best Score : 0.471781609195\n",
      "KNN Best Score(Standard Error) : 0.0719706611075\n"
     ]
    }
   ],
   "source": [
    "# grammar_level 제거\n",
    "x_knn_2 = pd.DataFrame([wadiz_no_outlier['target'], wadiz_no_outlier['date_duration']]).T\n",
    "y_knn_2 = wadiz_no_outlier['success']\n",
    "knn_model_2 = knn.fit(x_knn_2, y_knn_2)\n",
    "knn_best_score_mean_2 = cross_val_score(knn_model_2, x_knn_2, y_knn_2, cv = 10).mean()\n",
    "knn_best_score_std_2 = cross_val_score(knn_model_2, x_knn_2, y_knn_2, cv = 10).std()\n",
    "print('KNN Best Score :', knn_best_score_mean_2),\n",
    "print('KNN Best Score(Standard Error) :', knn_best_score_std_2)"
   ]
  },
  {
   "cell_type": "code",
   "execution_count": 38,
   "metadata": {
    "collapsed": false
   },
   "outputs": [
    {
     "name": "stdout",
     "output_type": "stream",
     "text": [
      "KNN Best Score : 0.547701149425\n",
      "KNN Best Score(Standard Error) : 0.0436781609195\n"
     ]
    }
   ],
   "source": [
    "# date_duration 제거\n",
    "x_knn_3 = pd.DataFrame([wadiz_no_outlier['target'], wadiz_no_outlier['provider_grammar_level']]).T\n",
    "y_knn_3 = wadiz_no_outlier['success']\n",
    "knn_model_3 = knn.fit(x_knn_3, y_knn_3)\n",
    "knn_best_score_mean_3 = cross_val_score(knn_model_3, x_knn_3, y_knn_3, cv = 10).mean()\n",
    "knn_best_score_std_3 = cross_val_score(knn_model_3, x_knn_3, y_knn_3, cv = 10).std()\n",
    "print('KNN Best Score :', knn_best_score_mean_3),\n",
    "print('KNN Best Score(Standard Error) :', knn_best_score_std_3)"
   ]
  },
  {
   "cell_type": "markdown",
   "metadata": {},
   "source": [
    "###  #KNN 결과\n",
    "* grammar_level과 target만 이용하였을 때 가장 높은 score를 보임. 하지만 아주 낮은 accuracy로 의미없는 모델임."
   ]
  },
  {
   "cell_type": "markdown",
   "metadata": {},
   "source": [
    "### C. NaiveBayes"
   ]
  },
  {
   "cell_type": "code",
   "execution_count": 39,
   "metadata": {
    "collapsed": true
   },
   "outputs": [],
   "source": [
    "gnb = GaussianNB()"
   ]
  },
  {
   "cell_type": "code",
   "execution_count": 40,
   "metadata": {
    "collapsed": false
   },
   "outputs": [],
   "source": [
    "gnb_best_score_mean = cross_val_score(gnb, x_classification, y, cv=Stkfold).mean()\n",
    "gnb_best_score_std = cross_val_score(gnb, x_classification, y, cv=Stkfold).std()"
   ]
  },
  {
   "cell_type": "code",
   "execution_count": 41,
   "metadata": {
    "collapsed": false
   },
   "outputs": [
    {
     "name": "stdout",
     "output_type": "stream",
     "text": [
      "GNB Best Score : 0.534022988506\n",
      "GNB Best Score(Standard Error) : 0.0498761843902\n"
     ]
    }
   ],
   "source": [
    "print('GNB Best Score :', gnb_best_score_mean),\n",
    "print('GNB Best Score(Standard Error) :', gnb_best_score_std)"
   ]
  },
  {
   "cell_type": "markdown",
   "metadata": {},
   "source": [
    "### #NaiveBayes 결과\n",
    "* 마찬가지로 성능이 좋지않음"
   ]
  },
  {
   "cell_type": "markdown",
   "metadata": {},
   "source": [
    "# # Insight\n",
    "* Regression 모델에서 가장 중요하게 여겨졌던 feature와 RandomForest에서 중요하게 여겨지는 feature가 상이함. -> (OLS : Target, RandomForest : grammar_level)\n",
    "* 대표적인 classification 방법론인 RandomForest, KNN, GaussianNB에서 base-line을 넘는 성능을 보이지 못함.\n",
    "* 샘플의 수가 작고(588개) 사용가능한 feature의 수도 한정적인 것이 낮은 성능의 가장 큰 이유임.\n",
    "\n",
    "* ***Project가 시작되기전 갖는 정보들로는 성공예측이 어려움.***"
   ]
  },
  {
   "cell_type": "code",
   "execution_count": null,
   "metadata": {
    "collapsed": true
   },
   "outputs": [],
   "source": []
  }
 ],
 "metadata": {
  "kernelspec": {
   "display_name": "Python 3",
   "language": "python",
   "name": "python3"
  },
  "language_info": {
   "codemirror_mode": {
    "name": "ipython",
    "version": 3
   },
   "file_extension": ".py",
   "mimetype": "text/x-python",
   "name": "python",
   "nbconvert_exporter": "python",
   "pygments_lexer": "ipython3",
   "version": "3.5.1"
  }
 },
 "nbformat": 4,
 "nbformat_minor": 0
}
