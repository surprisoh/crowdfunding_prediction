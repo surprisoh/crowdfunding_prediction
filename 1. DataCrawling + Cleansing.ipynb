{
 "cells": [
  {
   "cell_type": "code",
   "execution_count": null,
   "metadata": {
    "collapsed": false
   },
   "outputs": [],
   "source": [
    "import numpy as np\n",
    "import scipy as sp\n",
    "import pandas as pd\n",
    "import sklearn as sk\n",
    "import matplotlib as mpl\n",
    "import matplotlib.pylab as plt\n",
    "import seaborn as sns\n",
    "import requests\n",
    "from bs4 import BeautifulSoup\n",
    "from sklearn.preprocessing import LabelEncoder\n",
    "from sklearn.preprocessing import OneHotEncoder\n",
    "from hanspell import spell_checker #한글 맞춤법 검사기 (python 2.7) #https://github.com/ssut/py-hanspell"
   ]
  },
  {
   "cell_type": "markdown",
   "metadata": {},
   "source": [
    "# Project Crawling"
   ]
  },
  {
   "cell_type": "markdown",
   "metadata": {},
   "source": [
    "## 1. CrowdFunding 사이트 크롤링 \n",
    "* **wadiz_df** : project_id(프로젝트넘버), title, area, category, target(목표펀딩금액), result(최종펀딩금액), money_support(현금지지), sign_support(서명지지)\n",
    "\n",
    "\n",
    "* **project_money_all** : project_id(프로젝트넘버), funding_money(개인별 펀딩금액), funding_date(펀딩날짜)"
   ]
  },
  {
   "cell_type": "code",
   "execution_count": null,
   "metadata": {
    "collapsed": false,
    "scrolled": true
   },
   "outputs": [],
   "source": [
    "wadiz_df = pd.DataFrame(columns=[\"project_id\", \"title\", \"area\", \"category\", \"target\", \"result\", \"duration\", \"comment_all\", \"comment_user\",\n",
    "                                   \"comment_provider\", \"money_supporter\", \"sign_supporter\"]) \n",
    "project_money_all = pd.DataFrame()\n",
    "for page in range(1, 100):\n",
    "    try:\n",
    "        project_id = page \n",
    "        response = requests.get(\"http://www.wadiz.kr/web/campaign/detail/{page_num}\".format(page_num=project_id))\n",
    "        #print(project_id)\n",
    "        dom = BeautifulSoup(response.content, \"html.parser\")\n",
    "        title_1 = dom.select(\"div.wd-ui-title-wrap h1.wd-h1\")\n",
    "        title = title_1[0].text\n",
    "        area_1 = dom.select(\"div.wd-ui-campaign-info li.wd-data-area\")\n",
    "        area = area_1[0].text\n",
    "        category_1 = dom.select(\"div.wd-ui-campaign-info li.wd-data-tag\")\n",
    "        category = category_1[0].text\n",
    "        target_1 = dom.select(\"div.wd-info-target em.wd-data-target\")\n",
    "        target = target_1[0].text\n",
    "        result_1 = dom.select(\"div.wd-ui-target-old span.wd-data-collection\")\n",
    "        result = result_1[0].find(\"em\").text\n",
    "        comment_all_1 = dom.select_one(\"div.wd-ui-tab-wrap\")\n",
    "        comment_all = comment_all_1.find_all(\"li\")[1].text[18:-3]\n",
    "        comment_provider_1 = dom.select(\"ul.wd-list-reply\")\n",
    "        comment_provider = len(comment_provider_1)\n",
    "        comment_user = int(comment_all) - comment_provider\n",
    "        number_join_all = dom.select_one(\"li.wd-last\").text[17:-6]\n",
    "        number_money_1 = dom.select(\"li.wd-data-money\")\n",
    "        number_money = number_money_1[0].text[6:-1][:-1]\n",
    "        number_supporter_1 = dom.select(\"li.wd-data-sign\")\n",
    "        number_supporter = number_supporter_1[0].text[6:-1][:-1]\n",
    "        duration_1 = dom.select(\"li.wd-data-date\")\n",
    "        duration = duration_1[0].text[-23:]\n",
    "        #print(title, area, category, target, result)\n",
    "        wadiz_df.loc[len(wadiz_df)] = [project_id, title, area, category, target, result, duration, comment_all, \n",
    "                                         comment_user, comment_provider, number_money, number_supporter]\n",
    "        p_id = page\n",
    "        response_1 = requests.get(\"http://www.wadiz.kr/web/campaign/detailBacker/{project_num}\".format(project_num = p_id))\n",
    "        dom_1 = BeautifulSoup(response_1.content, \"html.parser\")\n",
    "        dom_1.select(\"span.wd-data-sponsor\")\n",
    "        a = pd.Series(dom_1.select(\"span.wd-data-sponsor strong\")[1::2])\n",
    "        b = a.apply(lambda x: x.text[97:-93])\n",
    "        b = b.apply(lambda x: x.replace(\",\", \"\"))\n",
    "        time = dom_1.select(\"span.wd-data-sponsor script\")\n",
    "        date = pd.Series()\n",
    "        for i in time:\n",
    "            date_1 = i.text[67:-53]\n",
    "            date.loc[len(date)] = date_1\n",
    "        date = date.apply(lambda x: x[0:10])\n",
    "        p = pd.DataFrame(columns=[\"project_id\"])\n",
    "        project_money = pd.concat([p, b, date], axis=1).fillna(p_id)\n",
    "        project_money = project_money.rename(columns={0 : \"funding_money\", 1: \"funding_date\"})\n",
    "        project_money = project_money.loc[project_money[\"funding_money\"] != \"\"]\n",
    "        project_money_all = project_money_all.append(project_money)\n",
    "        #print(p_id)\n",
    "    except: \n",
    "        continue\n",
    "#project_money_all = project_money_all[project_money_all['funding_money'] != \"\"]\n",
    "project_money_all.index = np.arange(len(project_money_all))"
   ]
  },
  {
   "cell_type": "code",
   "execution_count": null,
   "metadata": {
    "collapsed": true
   },
   "outputs": [],
   "source": [
    "# Data 저장\n",
    "wadiz_df.to_csv('wadiz_df_0329.csv', encoding='utf-8')\n",
    "project_money_all.to_csv('project_money_all_0329.csv')"
   ]
  },
  {
   "cell_type": "markdown",
   "metadata": {},
   "source": [
    "## 2. wadiz_df Data 정리\n",
    "\n",
    "* 최종 금액 0원 초과만 재분류\n",
    "* 날짜처리 : '2016.01.01 - 2016.03.01' -> date_start : 2016.01.01, date_end : 2016.03.01\n",
    "* 날짜 이상치 처리\n",
    "* 펀딩 기간 추가 : date_start - date_end\n",
    "* year, month 나누기\n",
    "* 한글명 카테고리 -> 영문명으로 변경 (python 2.7 작업 환경에 용이하기 때문)\n",
    "* LabelEncoding\n",
    "* OneHotEncoding\n",
    "* funding_rate column 생성 : result / target\n",
    "* success/fail column : success =1, fail = 0"
   ]
  },
  {
   "cell_type": "code",
   "execution_count": null,
   "metadata": {
    "collapsed": true
   },
   "outputs": [],
   "source": [
    "# 최종 금액 0원 초과만 재분류\n",
    "wadiz_df = wadiz_df[wadiz_df[\"result\"] > 0]"
   ]
  },
  {
   "cell_type": "code",
   "execution_count": null,
   "metadata": {
    "collapsed": true
   },
   "outputs": [],
   "source": [
    "# 날짜 처리\n",
    "date = np.vstack(wadiz_df.duration.astype(str).apply(lambda x: list(map(str, x.split('-')))).values)\n",
    "wadiz_df[\"date_start\"] = date[:,0]\n",
    "wadiz_df[\"date_end\"] = date[:,1]\n",
    "wadiz_df.drop(\"duration\", axis=1, inplace=True)"
   ]
  },
  {
   "cell_type": "code",
   "execution_count": null,
   "metadata": {
    "collapsed": true
   },
   "outputs": [],
   "source": [
    "# 날짜 이상치 처리\n",
    "wadiz_df = wadiz_df[wadiz_df['date_start'] != '\\t\\t\\t\\t\\t\\t\\t\\t\\t\\t ']"
   ]
  },
  {
   "cell_type": "code",
   "execution_count": null,
   "metadata": {
    "collapsed": true
   },
   "outputs": [],
   "source": [
    "wadiz_df[\"date_start\"] = pd.to_datetime(wadiz_df[\"date_start\"])\n",
    "wadiz_df[\"date_end\"] = pd.to_datetime(wadiz_df[\"date_end\"])"
   ]
  },
  {
   "cell_type": "code",
   "execution_count": null,
   "metadata": {
    "collapsed": true
   },
   "outputs": [],
   "source": [
    "# 펀딩 기간 추가 (date_duration)\n",
    "wadiz_df[\"date_duration\"] = wadiz_df[\"date_end\"] - wadiz_df[\"date_start\"]"
   ]
  },
  {
   "cell_type": "code",
   "execution_count": null,
   "metadata": {
    "collapsed": false,
    "scrolled": true
   },
   "outputs": [],
   "source": [
    "wadiz_df.head()"
   ]
  },
  {
   "cell_type": "code",
   "execution_count": null,
   "metadata": {
    "collapsed": false
   },
   "outputs": [],
   "source": [
    "# year, month 뽑기\n",
    "wadiz_df['year'] = wadiz_df['date_start'].apply(lambda x : x.year)\n",
    "wadiz_df['month'] = wadiz_df['date_start'].apply(lambda x: x.month)"
   ]
  },
  {
   "cell_type": "code",
   "execution_count": null,
   "metadata": {
    "collapsed": false,
    "scrolled": true
   },
   "outputs": [],
   "source": [
    "# 한글-> 영문처리\n",
    "wadiz_df[\"area\"][wadiz_df[\"area\"] == u'서울특별시'] = 'seoul'\n",
    "wadiz_df[\"area\"][wadiz_df[\"area\"] == u'경기도'] = 'kyungki'\n",
    "wadiz_df[\"area\"][wadiz_df[\"area\"] == u'부산광역시'] = 'busan'\n",
    "wadiz_df[\"area\"][wadiz_df[\"area\"] == u'인천광역시'] = 'incheon'\n",
    "wadiz_df[\"area\"][wadiz_df[\"area\"] == u'경상북도'] = 'kyungbuk'\n",
    "wadiz_df[\"area\"][wadiz_df[\"area\"] == u'전라북도'] = 'jeonbuk'\n",
    "wadiz_df[\"area\"][wadiz_df[\"area\"] == u'강원도'] = 'kangwon'\n",
    "wadiz_df[\"area\"][wadiz_df[\"area\"] == u'대구광역시'] = 'deagu'\n",
    "wadiz_df[\"area\"][wadiz_df[\"area\"] == u'충청남도'] = 'chungnam'\n",
    "wadiz_df[\"area\"][wadiz_df[\"area\"] == u'충청북도'] = 'chungbuk'\n",
    "wadiz_df[\"area\"][wadiz_df[\"area\"] == u'대전광역시'] = 'deajeon'\n",
    "wadiz_df[\"area\"][wadiz_df[\"area\"] == u'광주광역시'] = 'gwangju'\n",
    "wadiz_df[\"area\"][wadiz_df[\"area\"] == u'경상남도'] = 'kyungnam'\n",
    "wadiz_df[\"area\"][wadiz_df[\"area\"] == u'제주특별자치도'] = 'jeju'\n",
    "wadiz_df[\"area\"][wadiz_df[\"area\"] == u'울산광역시'] = 'ulsan'\n",
    "wadiz_df[\"area\"][wadiz_df[\"area\"] == u'전라남도'] = 'jeonnam'\n",
    "wadiz_df[\"area\"][wadiz_df[\"area\"] == u'세종특별자치시'] = 'sejong'\n",
    "wadiz_df[\"category\"][wadiz_df[\"category\"] == u\"나눔/공익\"] = 'share/public'\n",
    "wadiz_df[\"category\"][wadiz_df[\"category\"] == u\"라이프/패션\"] = 'life/fashion'\n",
    "wadiz_df[\"category\"][wadiz_df[\"category\"] == u\"테크/디자인\"] = 'tech/design'\n",
    "wadiz_df[\"category\"][wadiz_df[\"category\"] == u\"교육\"] = 'education'\n",
    "wadiz_df[\"category\"][wadiz_df[\"category\"] == u\"책/영화\"] = 'book/movie'\n",
    "wadiz_df[\"category\"][wadiz_df[\"category\"] == u\"음악/공연\"] = 'music/concert'\n",
    "wadiz_df[\"category\"][wadiz_df[\"category\"] == u\"미술/사진/전시\"] = 'art/photo/exhibit'\n",
    "wadiz_df[\"category\"][wadiz_df[\"category\"] == u\"환경\"] = 'environment'\n",
    "wadiz_df[\"category\"][wadiz_df[\"category\"] == u\"스포츠\"] = 'sports'\n",
    "wadiz_df[\"category\"][wadiz_df[\"category\"] == u\"여행\"] = 'travel'\n",
    "wadiz_df[\"category\"][wadiz_df[\"category\"] == u\"게임/만화\"] = 'game/comics'\n",
    "wadiz_df[\"category\"][wadiz_df[\"category\"] == u\"피규어/웹툰\"] = 'figure/webtoon'"
   ]
  },
  {
   "cell_type": "code",
   "execution_count": null,
   "metadata": {
    "collapsed": true
   },
   "outputs": [],
   "source": [
    "# category 이상치 처리\n",
    "wadiz_df[\"category\"].fillna('etc', inplace = True)"
   ]
  },
  {
   "cell_type": "code",
   "execution_count": null,
   "metadata": {
    "collapsed": true
   },
   "outputs": [],
   "source": [
    "# area, category -> LabelEncoding\n",
    "le = LabelEncoder()\n",
    "wadiz_df[\"category_label\"] = le.fit_transform(wadiz_df[\"category\"])\n",
    "wadiz_df[\"area_label\"] = le.fit_transform(wadiz_df[\"area\"])"
   ]
  },
  {
   "cell_type": "code",
   "execution_count": null,
   "metadata": {
    "collapsed": false
   },
   "outputs": [],
   "source": [
    "# area, category -> OneHotEncoding\n",
    "category_dummy = pd.get_dummies(wadiz_df['category'], prefix = 'category_label')\n",
    "area_dummy = pd.get_dummies(wadiz_df['area'], prefix = 'category_label')\n",
    "month = pd.get_dummies(wadiz_df.month, prefix=\"month\")\n",
    "year = pd.get_dummies(wadiz_df.year, prefix=\"year\")\n",
    "wadiz_df = pd.concat([wadiz_df, category_dummy, area_dummy, year, month], axis=1)"
   ]
  },
  {
   "cell_type": "code",
   "execution_count": null,
   "metadata": {
    "collapsed": true
   },
   "outputs": [],
   "source": [
    "# 콤마 제거\n",
    "wadiz_df['result'] = wadiz_df['result'].apply(lambda x: x.replace(\",\", \"\"))\n",
    "wadiz_df['target'] = wadiz_df['target'].apply(lambda x: x.replace(\",\", \"\"))"
   ]
  },
  {
   "cell_type": "code",
   "execution_count": null,
   "metadata": {
    "collapsed": false
   },
   "outputs": [],
   "source": [
    "# int 변환\n",
    "wadiz_df['result'] = wadiz_df['result'].apply(lambda x : int(x))\n",
    "wadiz_df['target'] = wadiz_df['target'].apply(lambda x : int(x))"
   ]
  },
  {
   "cell_type": "code",
   "execution_count": null,
   "metadata": {
    "collapsed": false
   },
   "outputs": [],
   "source": [
    "# funding_rate 생성\n",
    "# Success/Fail 나누기\n",
    "wadiz_df[\"funding_rate\"] = wadiz_df[\"result\"] / wadiz_df[\"target\"]\n",
    "wadiz_df[\"success\"] = wadiz_df[\"result\"] / wadiz_df[\"target\"]\n",
    "wadiz_df[\"success\"][wadiz_df['funding_rate']>=1] = 1\n",
    "wadiz_df[\"success\"][wadiz_df['funding_rate']<1] = 0"
   ]
  },
  {
   "cell_type": "markdown",
   "metadata": {},
   "source": [
    "## 3. Project_money Data 처리\n",
    "* 날짜별 펀딩된 금액 중 0~5일 內 펀딩금액만 처리"
   ]
  },
  {
   "cell_type": "code",
   "execution_count": null,
   "metadata": {
    "collapsed": true
   },
   "outputs": [],
   "source": [
    "wadiz_df['project_id'] = wadiz_df['project_id'].apply(lambda x: int(x))"
   ]
  },
  {
   "cell_type": "code",
   "execution_count": null,
   "metadata": {
    "collapsed": true
   },
   "outputs": [],
   "source": [
    "# 날짜 계산용 DataFrame 생성\n",
    "date_difference = pd.merge(project_money_all, wadiz_df, on=\"project_id\")"
   ]
  },
  {
   "cell_type": "code",
   "execution_count": null,
   "metadata": {
    "collapsed": false
   },
   "outputs": [],
   "source": [
    "# funding_date 처리\n",
    "project_money_all[\"funding_date\"] = pd.to_datetime(project_money_all[\"funding_date\"])\n",
    "date_difference[\"funding_date\"] = pd.to_datetime(date_difference[\"funding_date\"])\n",
    "date_difference[\"date_start\"] = pd.to_datetime(date_difference[\"date_start\"])"
   ]
  },
  {
   "cell_type": "code",
   "execution_count": null,
   "metadata": {
    "collapsed": false,
    "scrolled": true
   },
   "outputs": [],
   "source": [
    "date_difference[\"funding_date\"] - date_difference[\"date_start\"] "
   ]
  },
  {
   "cell_type": "code",
   "execution_count": null,
   "metadata": {
    "collapsed": false,
    "scrolled": true
   },
   "outputs": [],
   "source": [
    "# 프로젝트 개설일과 개인별 펀딩일 차이\n",
    "project_money_all[\"date_difference\"] = date_difference[\"funding_date\"] - date_difference[\"date_start\"] \n",
    "# NaN값 제거 (이상치)\n",
    "project_money_all['date_difference'] = project_money_all['date_difference'].fillna('-1')\n",
    "project_money_all = project_money_all[project_money_all['date_difference'] >= '0 days']"
   ]
  },
  {
   "cell_type": "code",
   "execution_count": null,
   "metadata": {
    "collapsed": false
   },
   "outputs": [],
   "source": [
    "# 날짜 처리\n",
    "project_money_all[\"date_difference\"] = project_money_all[\"date_difference\"].apply(lambda x: int(x)/8.640000e+13)\n",
    "#project_money_all = project_money_all[project_money_all[\"date_difference\"] >= 0]"
   ]
  },
  {
   "cell_type": "code",
   "execution_count": null,
   "metadata": {
    "collapsed": false,
    "scrolled": true
   },
   "outputs": [],
   "source": [
    "project_money_all"
   ]
  },
  {
   "cell_type": "code",
   "execution_count": null,
   "metadata": {
    "collapsed": false,
    "scrolled": true
   },
   "outputs": [],
   "source": [
    "type(project_money_all['date_difference'][0])"
   ]
  },
  {
   "cell_type": "code",
   "execution_count": null,
   "metadata": {
    "collapsed": false
   },
   "outputs": [],
   "source": [
    "project_money_all[\"0day_difference\"] = np.ones(len(project_money_all))"
   ]
  },
  {
   "cell_type": "code",
   "execution_count": null,
   "metadata": {
    "collapsed": false,
    "scrolled": true
   },
   "outputs": [],
   "source": [
    "# 0~5일 이내 funding된 금액만 처리\n",
    "for i in np.arange(6):\n",
    "    number = i\n",
    "    project_money_all[\"{number}day_difference\".format(number = i)] = np.ones(len(project_money_all))\n",
    "    project_money_all[\"{number}day_difference\".format(number = i)][project_money_all[\"date_difference\"] <= number] = \"short\"\n",
    "    project_money_all[\"{number}day_difference\".format(number = i)][project_money_all[\"date_difference\"] > number] = \"long\""
   ]
  },
  {
   "cell_type": "code",
   "execution_count": null,
   "metadata": {
    "collapsed": false
   },
   "outputs": [],
   "source": [
    "project_money_all['funding_money'] = project_money_all['funding_money'].apply(lambda x: int(x))"
   ]
  },
  {
   "cell_type": "code",
   "execution_count": null,
   "metadata": {
    "collapsed": false
   },
   "outputs": [],
   "source": [
    "zero_day = project_money_all.loc[project_money_all[\"0day_difference\"] == \"short\"]\n",
    "one_day = project_money_all.loc[project_money_all[\"1day_difference\"] == \"short\"]\n",
    "two_day = project_money_all.loc[project_money_all[\"2day_difference\"] == \"short\"]\n",
    "three_day = project_money_all.loc[project_money_all[\"3day_difference\"] == \"short\"]\n",
    "four_day = project_money_all.loc[project_money_all[\"4day_difference\"] == \"short\"]\n",
    "five_day = project_money_all.loc[project_money_all[\"5day_difference\"] == \"short\"]"
   ]
  },
  {
   "cell_type": "code",
   "execution_count": null,
   "metadata": {
    "collapsed": true
   },
   "outputs": [],
   "source": [
    "zero_day = zero_day.groupby(\"project_id\", as_index=False).sum()\n",
    "one_day = one_day.groupby(\"project_id\", as_index=False).sum()\n",
    "two_day = two_day.groupby(\"project_id\", as_index=False).sum()\n",
    "three_day = three_day.groupby(\"project_id\", as_index=False).sum()\n",
    "four_day = four_day.groupby(\"project_id\", as_index=False).sum()\n",
    "five_day = five_day.groupby(\"project_id\", as_index=False).sum()"
   ]
  },
  {
   "cell_type": "code",
   "execution_count": null,
   "metadata": {
    "collapsed": true
   },
   "outputs": [],
   "source": [
    "zero_day = zero_day.rename(columns={\"funding_money\" : \"0day_funding_money\"})\n",
    "one_day = one_day.rename(columns={\"funding_money\" : \"1day_funding_money\"})\n",
    "two_day = two_day.rename(columns={\"funding_money\" : \"2day_funding_money\"})\n",
    "three_day = three_day.rename(columns={\"funding_money\" : \"3day_funding_money\"})\n",
    "four_day = four_day.rename(columns={\"funding_money\" : \"4day_funding_money\"})\n",
    "five_day = five_day.rename(columns={\"funding_money\" : \"5day_funding_money\"})"
   ]
  },
  {
   "cell_type": "code",
   "execution_count": null,
   "metadata": {
    "collapsed": true
   },
   "outputs": [],
   "source": [
    "zero_day = zero_day.rename(columns={\"date_difference\" : \"0day_date\"})\n",
    "one_day = one_day.rename(columns={\"date_difference\" : \"1day_date\"})\n",
    "two_day = two_day.rename(columns={\"date_difference\" : \"2day_date\"})\n",
    "three_day = three_day.rename(columns={\"date_difference\" : \"3day_date\"})\n",
    "four_day = four_day.rename(columns={\"date_difference\" : \"4day_date\"})\n",
    "five_day = five_day.rename(columns={\"date_difference\" : \"5day_date\"})"
   ]
  },
  {
   "cell_type": "markdown",
   "metadata": {},
   "source": [
    "## 4. Project_money_all, Wadiz_df 합치기\n",
    "* 각 프로젝트별 0~5일 內 누적금액이 얼마인지 확인가능"
   ]
  },
  {
   "cell_type": "code",
   "execution_count": null,
   "metadata": {
    "collapsed": true
   },
   "outputs": [],
   "source": [
    "wadiz_df = pd.merge(wadiz_df, zero_day, on = \"project_id\", how='outer')\n",
    "wadiz_df = pd.merge(wadiz_df, one_day, on = \"project_id\", how='outer')\n",
    "wadiz_df = pd.merge(wadiz_df, two_day, on = \"project_id\", how='outer')\n",
    "wadiz_df = pd.merge(wadiz_df, three_day, on = \"project_id\", how='outer')\n",
    "wadiz_df = pd.merge(wadiz_df, four_day, on = \"project_id\", how='outer')\n",
    "wadiz_df = pd.merge(wadiz_df, five_day, on = \"project_id\", how='outer')"
   ]
  },
  {
   "cell_type": "markdown",
   "metadata": {},
   "source": [
    "## 5. Data 추가"
   ]
  },
  {
   "cell_type": "code",
   "execution_count": null,
   "metadata": {
    "collapsed": false,
    "scrolled": true
   },
   "outputs": [],
   "source": [
    "# NaN 값 체크\n",
    "# Nan값은 0~5일내에 펀딩된 금액이 없는 것을 뜻함\n",
    "for i in wadiz_df.columns:\n",
    "    column = i\n",
    "    print(len(wadiz_df.loc[wadiz_df[\"{column}\".format(column = i)].isnull() == True]))"
   ]
  },
  {
   "cell_type": "code",
   "execution_count": null,
   "metadata": {
    "collapsed": true
   },
   "outputs": [],
   "source": [
    "wadiz_df.fillna(0, inplace=True)"
   ]
  },
  {
   "cell_type": "code",
   "execution_count": null,
   "metadata": {
    "collapsed": false,
    "scrolled": true
   },
   "outputs": [],
   "source": [
    "#NaN 값 다시 체크\n",
    "for i in wadiz_df.columns:\n",
    "    column = i\n",
    "    print(len(wadiz_df.loc[wadiz_df[\"{column}\".format(column = i)].isnull() == True]))"
   ]
  },
  {
   "cell_type": "code",
   "execution_count": null,
   "metadata": {
    "collapsed": false
   },
   "outputs": [],
   "source": [
    "#funding_rate 생성\n",
    "for i in np.arange(6):\n",
    "    number = i\n",
    "    wadiz_df[\"{number}day_funding_rate\".format(number = i)] = \\\n",
    "    wadiz_df[\"{number}day_funding_money\".format(number = i)]/wadiz_df[\"target\"]"
   ]
  },
  {
   "cell_type": "code",
   "execution_count": null,
   "metadata": {
    "collapsed": false
   },
   "outputs": [],
   "source": [
    "# funding_rate 1 이상인 값들 체크\n",
    "for i in np.arange(6):\n",
    "    number = i\n",
    "    print(len(wadiz_df.loc[wadiz_df[\"{number}day_funding_rate\".format(number = i)] >= 1]))"
   ]
  },
  {
   "cell_type": "code",
   "execution_count": null,
   "metadata": {
    "collapsed": true
   },
   "outputs": [],
   "source": [
    "# funding_rate -> log scale\n",
    "for i in np.arange(6):\n",
    "    number = i\n",
    "    wadiz_df[\"{number}day_log_funding_rate\".format(number = i)] = wadiz_df[\"{number}day_funding_rate\"\\\n",
    "                                                                           .format(number = i)].apply(lambda x: np.log(x))"
   ]
  },
  {
   "cell_type": "code",
   "execution_count": null,
   "metadata": {
    "collapsed": true
   },
   "outputs": [],
   "source": [
    "wadiz_df.to_csv('wadiz_df_0329_1.csv', encoding='utf-8')"
   ]
  },
  {
   "cell_type": "markdown",
   "metadata": {},
   "source": [
    "## 5. Comment Crawling\n",
    "* 각 프로젝트별 지지자, 개설자 댓글 크롤링\n",
    "* user_data_all : 지지자 댓글\n",
    "* provider_data_all : 개설자 댓글"
   ]
  },
  {
   "cell_type": "code",
   "execution_count": null,
   "metadata": {
    "collapsed": false,
    "scrolled": true
   },
   "outputs": [],
   "source": [
    "project_id = wadiz_df.project_id\n",
    "user_data = pd.DataFrame(columns=['project_id', 'user_id', 'comment', 'date'])\n",
    "user_data_all = pd.DataFrame()\n",
    "provider_data = pd.DataFrame(columns=['project_id', 'provider_id', 'comment', 'date'])\n",
    "provider_data_all = pd.DataFrame()\n",
    "for i in project_id[0:]:\n",
    "    project_id_list = i\n",
    "    response = requests.get('https://www.wadiz.kr/web/campaign/detail/qa/{project_id_list}'.format(project_id_list = i))\n",
    "    dom = BeautifulSoup(response.content, 'html.parser')\n",
    "    user_all = dom.select('div.wd-ui-recommend li.')\n",
    "    print(project_id_list)\n",
    "    if len(user_all) == 0:\n",
    "        pass\n",
    "    else:\n",
    "        for number in np.arange(len(user_all)):\n",
    "            user = user_all[number]\n",
    "            user_url = user.select_one('a.wd-data-name').get('href')\n",
    "            user_comment = user.select_one('span').text\n",
    "            try:\n",
    "                user_date = user.select_one('span.wd-data-whenCreated').text\n",
    "            except:\n",
    "                continue\n",
    "            user_data.loc[len(user_data)] = [project_id_list, user_url, user_comment, user_date]\n",
    "    provider_all = dom.select('ul.wd-list-reply')\n",
    "    #print(project_id_list)\n",
    "    for number in np.arange(len(provider_all)):\n",
    "        provider = provider_all[number]\n",
    "        provider_url = provider.select_one('a.wd-data-name').get('href')\n",
    "        provider_comment = provider.select('span')[-2].text\n",
    "        provider_date = provider.select('span')[-1].text\n",
    "        provider_data.loc[len(provider_data)] = [project_id_list, provider_url, provider_comment, provider_date]\n",
    "user_data_all = user_data_all.append(user_data)    \n",
    "provider_data_all = provider_data_all.append(provider_data)"
   ]
  },
  {
   "cell_type": "code",
   "execution_count": null,
   "metadata": {
    "collapsed": true
   },
   "outputs": [],
   "source": [
    "user_data_all.to_csv('user_data_all_0329.csv', encoding='utf-8')\n",
    "provider_data_all.to_csv('provider_data_all_0329.csv', encoding='utf-8')"
   ]
  },
  {
   "cell_type": "markdown",
   "metadata": {},
   "source": [
    "## 6. 맞춤법 검사\n",
    "* #한글 맞춤법 검사기 (python 2.7, https://github.com/ssut/py-hanspell)\n",
    "* 개설자 댓글 맞춤법 검사\n",
    "* error 갯수 합산, 각 댓글별 어절 수 계산\n",
    "* provider_grammar_level : error / comment_length(어절 수)"
   ]
  },
  {
   "cell_type": "code",
   "execution_count": null,
   "metadata": {
    "collapsed": true
   },
   "outputs": [],
   "source": [
    "comment_analysis = pd.DataFrame(columns={'project_id', 'provider_id',\n",
    "                         'result', 'original', 'checked', 'words', 'time', 'comment_length'})\n",
    "for i in np.arange(len(provider_data_all)):\n",
    "    try:\n",
    "        result = spell_checker.check(provider_data_all['comment'][i])\n",
    "        comment = pd.DataFrame(provider_data_all.loc[i]).T\n",
    "        comment_result = pd.DataFrame([result])\n",
    "        comment_result.index = comment.index\n",
    "        comment_result_df = comment.join(comment_result)\n",
    "        comment_analysis = comment_analysis.append(comment_result_df)\n",
    "        comment_analysis['comment_length'][i] = len(comment_analysis['words'][i])\n",
    "        if i in 100*np.arange(220):\n",
    "            print(i)\n",
    "    except:\n",
    "        continue"
   ]
  },
  {
   "cell_type": "code",
   "execution_count": null,
   "metadata": {
    "collapsed": false
   },
   "outputs": [],
   "source": [
    "# comment_error 생성\n",
    "comment_error = pd.DataFrame([comment_analysis.project_id, comment_analysis.errors, \n",
    "                              comment_analysis.provider_id, comment_analysis.comment_length]).T\n",
    "# data int타입으로 전환\n",
    "comment_error['errors'] = comment_error['errors'].apply(lambda x: int(x))\n",
    "comment_error['comment_length'] = comment_error['comment_length'].apply(lambda x: int(x))"
   ]
  },
  {
   "cell_type": "code",
   "execution_count": null,
   "metadata": {
    "collapsed": true
   },
   "outputs": [],
   "source": [
    "# comment error 처리\n",
    "comment_error['errors'] = comment_error['errors'].apply(lambda x: int(x))\n",
    "comment_error['comment_length'] = comment_error['comment_length'].apply(lambda x: int(x))"
   ]
  },
  {
   "cell_type": "code",
   "execution_count": null,
   "metadata": {
    "collapsed": true
   },
   "outputs": [],
   "source": [
    "# id로 groupby\n",
    "comment_error = comment_error.groupby(by='project_id', as_index=False).sum()"
   ]
  },
  {
   "cell_type": "code",
   "execution_count": null,
   "metadata": {
    "collapsed": true
   },
   "outputs": [],
   "source": [
    "# grammar_level 생성\n",
    "# 각 댓글에 속한 error를 전체 어절로 나눔\n",
    "comment_error['provider_grammar_level'] = comment_error['errors']/comment_error['comment_length']"
   ]
  },
  {
   "cell_type": "code",
   "execution_count": null,
   "metadata": {
    "collapsed": false,
    "scrolled": true
   },
   "outputs": [],
   "source": [
    "comment_analysis.to_csv('comment_analysis.csv', encoding='utf-8')"
   ]
  },
  {
   "cell_type": "markdown",
   "metadata": {},
   "source": [
    "## 7. 개설자 댓글이 존재하는 Project만 선정\n",
    "* wadiz_provider_analysis : 총 샘플 수 599개 ("
   ]
  },
  {
   "cell_type": "code",
   "execution_count": null,
   "metadata": {
    "collapsed": true
   },
   "outputs": [],
   "source": [
    "wadiz_provider_analysis = pd.merge(wadiz_df, comment_error, how='inner', on= 'project_id')"
   ]
  },
  {
   "cell_type": "code",
   "execution_count": null,
   "metadata": {
    "collapsed": false,
    "scrolled": true
   },
   "outputs": [],
   "source": [
    "wadiz_provider_analysis.to_csv('wadiz_provider_analysis_0329.csv', encoding='utf-8')"
   ]
  },
  {
   "cell_type": "code",
   "execution_count": null,
   "metadata": {
    "collapsed": false,
    "scrolled": false
   },
   "outputs": [],
   "source": [
    "wadiz_df.head()"
   ]
  },
  {
   "cell_type": "code",
   "execution_count": null,
   "metadata": {
    "collapsed": false,
    "scrolled": true
   },
   "outputs": [],
   "source": [
    "wadiz_provider_analysis"
   ]
  },
  {
   "cell_type": "code",
   "execution_count": null,
   "metadata": {
    "collapsed": false,
    "scrolled": true
   },
   "outputs": [],
   "source": [
    "project_money_all"
   ]
  },
  {
   "cell_type": "code",
   "execution_count": null,
   "metadata": {
    "collapsed": false,
    "scrolled": true
   },
   "outputs": [],
   "source": [
    "provider_data_all"
   ]
  },
  {
   "cell_type": "code",
   "execution_count": null,
   "metadata": {
    "collapsed": false
   },
   "outputs": [],
   "source": [
    "user_data_all"
   ]
  },
  {
   "cell_type": "code",
   "execution_count": null,
   "metadata": {
    "collapsed": true
   },
   "outputs": [],
   "source": []
  }
 ],
 "metadata": {
  "kernelspec": {
   "display_name": "Python 3",
   "language": "python",
   "name": "python3"
  },
  "language_info": {
   "codemirror_mode": {
    "name": "ipython",
    "version": 3
   },
   "file_extension": ".py",
   "mimetype": "text/x-python",
   "name": "python",
   "nbconvert_exporter": "python",
   "pygments_lexer": "ipython3",
   "version": "3.5.1"
  }
 },
 "nbformat": 4,
 "nbformat_minor": 0
}
